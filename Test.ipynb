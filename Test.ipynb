{
 "cells": [
  {
   "cell_type": "code",
   "execution_count": null,
   "metadata": {},
   "outputs": [],
   "source": [
    "import sympy as sym\n",
    "sym.init_printing()\n",
    "import numpy as np\n",
    "import matplotlib.pyplot as plt\n",
    "import pandas as pd\n",
    "from scipy.interpolate import InterpolatedUnivariateSpline"
   ]
  },
  {
   "cell_type": "code",
   "execution_count": null,
   "metadata": {},
   "outputs": [],
   "source": [
    "plt.style.use('./my_style.py')\n",
    "import matplotlib.ticker as mticker\n",
    "\n",
    "from cycler import cycler\n",
    "import matplotlib.cm     as cm"
   ]
  },
  {
   "cell_type": "markdown",
   "metadata": {},
   "source": [
    "# Example use of solver "
   ]
  },
  {
   "cell_type": "code",
   "execution_count": null,
   "metadata": {},
   "outputs": [],
   "source": [
    "from solver import KmouExpansionJordan"
   ]
  },
  {
   "cell_type": "code",
   "execution_count": null,
   "metadata": {},
   "outputs": [],
   "source": [
    "A0=1"
   ]
  },
  {
   "cell_type": "code",
   "execution_count": null,
   "metadata": {},
   "outputs": [],
   "source": [
    "# initilise solver\n",
    "dum_kmou = KmouExpansionJordan(beta=0.1, K0=1, lamb_val=10, Om0=0.3089, A0=A0)"
   ]
  },
  {
   "cell_type": "code",
   "execution_count": null,
   "metadata": {},
   "outputs": [],
   "source": [
    "# dum_kmou.tune_lambda(E_target=1.105861, a_target=0.875543)\n",
    "dum_kmou.tune_lambda(E_target=1, a_target=1, frame='Jordan', maxiter=10) # tune lambda to recover E=E_target in the desired frame\n",
    "# dum_kmou.solve() # to compute solutions without tuning"
   ]
  },
  {
   "cell_type": "code",
   "execution_count": null,
   "metadata": {},
   "outputs": [],
   "source": [
    "dum_kmou.lamb_val"
   ]
  },
  {
   "cell_type": "code",
   "execution_count": null,
   "metadata": {},
   "outputs": [],
   "source": [
    "# create dataframe with some output quantities\n",
    "header, table = dum_kmou.eval()\n",
    "df_out = pd.DataFrame(np.array(table).T, columns=header).set_index('a')"
   ]
  },
  {
   "cell_type": "code",
   "execution_count": null,
   "metadata": {},
   "outputs": [],
   "source": [
    "print(A0)\n",
    "A0 = df_out.loc[1,'A']\n",
    "A0"
   ]
  },
  {
   "cell_type": "code",
   "execution_count": null,
   "metadata": {},
   "outputs": [],
   "source": [
    "# Check E\n",
    "plt.semilogx(df_out.E_kmou/(0.3089*(df_out.index**(-3)-1)+1)**(1/2))\n",
    "# plt.hlines(-3/2, 1e-3, 1, colors='k', linestyles='--'"
   ]
  },
  {
   "cell_type": "code",
   "execution_count": null,
   "metadata": {},
   "outputs": [],
   "source": [
    "# Check E\n",
    "plt.plot(1/df_out.index-1, df_out.E_kmou/(0.3089*(df_out.index**(-3)-1)+1)**(1/2))\n",
    "plt.xlim(0,6)"
   ]
  },
  {
   "cell_type": "code",
   "execution_count": null,
   "metadata": {},
   "outputs": [],
   "source": [
    "# Check E'/E\n",
    "plt.semilogx(df_out.E_kmou_a*df_out.index/df_out.E_kmou)\n",
    "plt.hlines(-3/2, 1e-3, 1, colors='k', linestyles='--')"
   ]
  },
  {
   "cell_type": "markdown",
   "metadata": {},
   "source": [
    "### Comparison with Ben: $K_0=1$, $\\beta=0.2$, $n=2$"
   ]
  },
  {
   "cell_type": "code",
   "execution_count": null,
   "metadata": {},
   "outputs": [],
   "source": [
    "header_str = 'a,  H_MG,  H_LCDM, H_MG/H_LCDM,  aH dH/da / H0^2 ,  phi , d phi/ dlna'\n",
    "header = [s.strip(' ')for s in header_str.split(',')]\n",
    "\n",
    "df_Ben_BG = pd.DataFrame(np.loadtxt('./Data/Background/background_k01_glam.dat'), columns=header).set_index('a')"
   ]
  },
  {
   "cell_type": "code",
   "execution_count": null,
   "metadata": {},
   "outputs": [],
   "source": [
    "df_Ben_BG['A'] = np.e**(df_Ben_BG.phi*0.2)\n",
    "df_Ben_BG['a_J'] = df_Ben_BG['A']*df_Ben_BG.index"
   ]
  },
  {
   "cell_type": "code",
   "execution_count": null,
   "metadata": {},
   "outputs": [],
   "source": [
    "a_E = df_Ben_BG.index#np.logspace(-4,0,1000)\n",
    "a_J = dum_kmou.get_a_Jor(a_E)"
   ]
  },
  {
   "cell_type": "code",
   "execution_count": null,
   "metadata": {},
   "outputs": [],
   "source": [
    "header, table = dum_kmou.eval(a_vals=a_J)\n",
    "df_out = pd.DataFrame(np.array(table).T, columns=header).set_index('a')"
   ]
  },
  {
   "cell_type": "code",
   "execution_count": null,
   "metadata": {},
   "outputs": [],
   "source": [
    "dum_kmou.get_E_Ein(a_Ein=a_E)"
   ]
  },
  {
   "cell_type": "code",
   "execution_count": null,
   "metadata": {},
   "outputs": [],
   "source": [
    "df_out.index * 0.1* df_out['phi_a']"
   ]
  },
  {
   "cell_type": "code",
   "execution_count": null,
   "metadata": {},
   "outputs": [],
   "source": [
    "plt.plot(1/a_J-1, (dum_kmou.get_E_Ein(a_Ein=a_E)/df_out['E_kmou']))\n",
    "plt.plot(1/a_J-1, df_out.A*(1- df_out.index * 0.1* df_out['phi_a']), '--')\n",
    "plt.xlim(0,6)"
   ]
  },
  {
   "cell_type": "code",
   "execution_count": null,
   "metadata": {},
   "outputs": [],
   "source": [
    "plt.semilogx((df_out['E_kmou']/dum_kmou.E_LCDM_fun(a_J)))\n",
    "plt.semilogx(df_Ben_BG.a_J,(df_Ben_BG['H_MG']/df_Ben_BG['H_LCDM']),'--')\n",
    "# plt.ylim(0.9,1.1)"
   ]
  },
  {
   "cell_type": "markdown",
   "metadata": {},
   "source": [
    "# Compute growth factor"
   ]
  },
  {
   "cell_type": "code",
   "execution_count": null,
   "metadata": {},
   "outputs": [],
   "source": [
    "dum_kmou.get_growth()"
   ]
  },
  {
   "cell_type": "code",
   "execution_count": null,
   "metadata": {},
   "outputs": [],
   "source": [
    "dum_LCMD = KmouExpansionJordan()\n",
    "dum_LCMD.solve()\n",
    "dum_LCMD.get_growth_LCDM()"
   ]
  },
  {
   "cell_type": "code",
   "execution_count": null,
   "metadata": {},
   "outputs": [],
   "source": [
    "plt.plot(dum_kmou.D_kmou_J['t'],dum_kmou.D_kmou_J['y'][1])\n",
    "plt.plot(dum_LCMD.D_LCDM['t'],dum_LCMD.D_LCDM['y'][1])\n"
   ]
  },
  {
   "cell_type": "code",
   "execution_count": null,
   "metadata": {},
   "outputs": [],
   "source": [
    "# produce familiar growth ratio with LCDM\n",
    "a_E = np.logspace(-4,0,1000)\n",
    "a_J = a_E#dum_kmou.get_a_Jor(a_E)\n",
    "\n",
    "plt.semilogx(a_E , (dum_kmou.D_kmou_J.sol(a_J)[1]/dum_LCMD.D_LCDM.sol(a_E)[1]))\n"
   ]
  },
  {
   "cell_type": "code",
   "execution_count": null,
   "metadata": {},
   "outputs": [],
   "source": [
    "(dum_kmou.D_kmou_J.sol(a_J)[1]/dum_LCMD.D_LCDM.sol(a_E)[1])**2"
   ]
  },
  {
   "cell_type": "code",
   "execution_count": null,
   "metadata": {},
   "outputs": [],
   "source": []
  }
 ],
 "metadata": {
  "kernelspec": {
   "display_name": "base",
   "language": "python",
   "name": "python3"
  },
  "language_info": {
   "codemirror_mode": {
    "name": "ipython",
    "version": 3
   },
   "file_extension": ".py",
   "mimetype": "text/x-python",
   "name": "python",
   "nbconvert_exporter": "python",
   "pygments_lexer": "ipython3",
   "version": "3.10.8"
  }
 },
 "nbformat": 4,
 "nbformat_minor": 4
}
