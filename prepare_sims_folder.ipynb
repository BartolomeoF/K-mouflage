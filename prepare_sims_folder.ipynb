{
 "cells": [
  {
   "cell_type": "code",
   "execution_count": null,
   "metadata": {},
   "outputs": [],
   "source": [
    "import glob\n",
    "import os\n",
    "import numpy as np\n",
    "from nbodykit.lab import cosmology\n",
    "import pandas as pd\n",
    "import matplotlib.pyplot as plt\n",
    "import copy\n",
    "from scipy.interpolate import InterpolatedUnivariateSpline\n",
    "from solver import KmouExpansionJordan"
   ]
  },
  {
   "cell_type": "code",
   "execution_count": null,
   "metadata": {},
   "outputs": [],
   "source": [
    "plt.style.use('../kp-jc-6-paper-2/notebooks/my_style_new.ini')"
   ]
  },
  {
   "cell_type": "code",
   "execution_count": null,
   "metadata": {},
   "outputs": [],
   "source": [
    "def pk_to_file(Om, Ob, h,  ns, As=None, sigma8=None, z=0, k_vals=np.logspace(-4,2, 1000), mode=\"out\", bs_fact=1, out_path='./'):\n",
    "    if As is not None:\n",
    "        nb_cosmo = cosmology.Cosmology(h=h, Omega0_b=Ob, \n",
    "                            Omega0_cdm=Om - Ob, n_s=ns, m_ncdm=[], A_s=As)\n",
    "    else:\n",
    "        try:\n",
    "            nb_cosmo = cosmology.Cosmology(h=h, Omega0_b=Ob, \n",
    "                            Omega0_cdm=Om - Ob, n_s=ns, m_ncdm=[]).match(sigma8)\n",
    "            As = nb_cosmo.A_s\n",
    "        except:\n",
    "            raise Exception('Need to specify at least one between As and sigma8')\n",
    "    \n",
    "    Plin = cosmology.LinearPower(nb_cosmo, redshift=z, transfer='CLASS')\n",
    "    \n",
    "    df_CLASS = pd.DataFrame(index=k_vals, data= Plin(k_vals))\n",
    "    if mode=='local':\n",
    "        return df_CLASS\n",
    "    elif mode=='cosmo':\n",
    "        return nb_cosmo\n",
    "    elif mode=='out':\n",
    "        out_folder = f'./{Params_path}/outPk/Om{Om:.4}_ns{ns:.4}_As{As:.4}_h{h:.4}_Ob{Ob:.4}/'\n",
    "        if not os.path.exists(out_folder):\n",
    "            os.makedirs(out_folder)\n",
    "        df_CLASS.to_csv(f'{out_folder}/input_power_spectrum_CLASS.dat',sep='\\t', header=False, index=True,  encoding='utf-8')\n",
    "    elif mode=='backscale_out':\n",
    "        if not os.path.exists(out_path):\n",
    "            os.makedirs(out_path)\n",
    "        (df_CLASS*bs_fact).to_csv(f'{out_path}/input_power_spectrum.dat',sep='\\t', header=False, index=True,  encoding='utf-8')"
   ]
  },
  {
   "cell_type": "code",
   "execution_count": null,
   "metadata": {},
   "outputs": [],
   "source": [
    "def get_param(param, string):\n",
    "    return string.split(param)[-1].split('_')[0]"
   ]
  },
  {
   "cell_type": "markdown",
   "metadata": {},
   "source": [
    "### Folder structure"
   ]
  },
  {
   "cell_type": "code",
   "execution_count": null,
   "metadata": {},
   "outputs": [],
   "source": [
    "sim_root = 'BensProjectSims_Kmou'"
   ]
  },
  {
   "cell_type": "code",
   "execution_count": null,
   "metadata": {},
   "outputs": [],
   "source": [
    "sim_folder=f'/Users/fiorini/GitHub/K-mouflage/Data/{sim_root}'\n",
    "sim_names=['LCDM']\n",
    "beta_list=[0.125, 0.2]\n",
    "K0_list=[1]\n",
    "box_sizes=[400,]# 400, 400, 400, 400, 400]\n",
    "Nparts=[512,]# 512, 512, 512, 512, 512*2]\n",
    "Nmeshs=[512*3,]# 512*3, 512*3, 512*3, 512*6, 512*6]\n",
    "Nsteps=[40,]# 60, 80, 100, 100, 100]\n",
    "Seeds=[73119]\n",
    "ReversePhases = False\n",
    "Params_path=f'Params_for_{sim_root}'\n",
    "in_FML_params = f'{Params_path}/parameterfile.lua'\n",
    "z_ini = 49"
   ]
  },
  {
   "cell_type": "code",
   "execution_count": null,
   "metadata": {},
   "outputs": [],
   "source": [
    "# cosmological parameters for Kmou\n",
    "h_list=[ 0.6774] #, 0.6774] # 0.67\n",
    "Omega0_b_list=[0.0486] #, 0.0486] # 0.049\n",
    "Omega0_m_list=[0.3089] #, 0.3089] # 0.319\n",
    "n_s_list=[0.9667] #, 0.9667] # 0.96\n",
    "A_s_list = [2.06535e-9] #, 2.066e-9] # 2.1e-9"
   ]
  },
  {
   "cell_type": "code",
   "execution_count": null,
   "metadata": {},
   "outputs": [],
   "source": [
    "# Save power spectrem to file # acutally now used only for the folder\n",
    "for h, Ob, Om, ns, As in zip(h_list, Omega0_b_list, Omega0_m_list, n_s_list, A_s_list):\n",
    "    pk_to_file(Om, Ob, h, ns, As=As) \n",
    "    # nb_cosmo = pk_to_file(Om, Ob, h, ns, As=As, mode='cosmo') "
   ]
  },
  {
   "cell_type": "code",
   "execution_count": null,
   "metadata": {},
   "outputs": [],
   "source": [
    "for beta in beta_list:\n",
    "    for K0 in K0_list:\n",
    "        sim_names.append(f'Kmou_beta{beta}_K{K0}')"
   ]
  },
  {
   "cell_type": "code",
   "execution_count": null,
   "metadata": {},
   "outputs": [],
   "source": [
    "sim_names"
   ]
  },
  {
   "cell_type": "markdown",
   "metadata": {},
   "source": [
    "### Cosmologies"
   ]
  },
  {
   "cell_type": "code",
   "execution_count": null,
   "metadata": {},
   "outputs": [],
   "source": [
    "input_Pk_folder = f'./{Params_path}/outPk/'\n",
    "comsos_files = glob.glob(f'{input_Pk_folder}/*/')\n",
    "\n",
    "cosmos = [file.split('/')[-2] for file in comsos_files]"
   ]
  },
  {
   "cell_type": "code",
   "execution_count": null,
   "metadata": {},
   "outputs": [],
   "source": [
    "# rm ./Params_for_KPJC6_Paper1/outPk/ -r"
   ]
  },
  {
   "cell_type": "code",
   "execution_count": null,
   "metadata": {},
   "outputs": [],
   "source": [
    "cosmos"
   ]
  },
  {
   "cell_type": "markdown",
   "metadata": {},
   "source": [
    "# Models"
   ]
  },
  {
   "cell_type": "code",
   "execution_count": null,
   "metadata": {},
   "outputs": [],
   "source": [
    "sim_names"
   ]
  },
  {
   "cell_type": "code",
   "execution_count": null,
   "metadata": {},
   "outputs": [],
   "source": [
    "mod_message = 'Line modified by python'"
   ]
  },
  {
   "cell_type": "markdown",
   "metadata": {},
   "source": [
    "### Read default run and parameter file"
   ]
  },
  {
   "cell_type": "code",
   "execution_count": null,
   "metadata": {},
   "outputs": [],
   "source": [
    "with open(in_FML_params, 'r') as file:\n",
    "    # read default parameters\n",
    "    default_FML_params_data = file.readlines()"
   ]
  },
  {
   "cell_type": "code",
   "execution_count": null,
   "metadata": {},
   "outputs": [],
   "source": [
    "default_FML_params_data[24] = 'output_particles = false\\n'"
   ]
  },
  {
   "cell_type": "code",
   "execution_count": null,
   "metadata": {},
   "outputs": [],
   "source": [
    "default_FML_params_data[240] = f'ic_fix_amplitude = true -- {mod_message} \\n'"
   ]
  },
  {
   "cell_type": "code",
   "execution_count": null,
   "metadata": {},
   "outputs": [],
   "source": [
    "# Wanted?\n",
    "default_FML_params_data[61] = f'cosmology_TCMB_kelvin = 2.7255e-7 -- {mod_message} \\n'"
   ]
  },
  {
   "cell_type": "markdown",
   "metadata": {},
   "source": [
    "### Create background and force files"
   ]
  },
  {
   "cell_type": "code",
   "execution_count": null,
   "metadata": {},
   "outputs": [],
   "source": [
    "table_file = './Data/Output/n2-beta0p2-k1/out_table.txt'\n",
    "a_E, a_J, E_J, dE_J_over_da, phi_J, dphi_J_over_da, G_eff_over_G, A_conf, D_kmou = np.loadtxt(table_file).T"
   ]
  },
  {
   "cell_type": "code",
   "execution_count": null,
   "metadata": {},
   "outputs": [],
   "source": [
    "# Convert redshifts between frames\n",
    "zJ_from_zE = lambda zE, dum_exp: 1/dum_exp.get_a_Jor(1/(zE+1)) -1  "
   ]
  },
  {
   "cell_type": "code",
   "execution_count": null,
   "metadata": {},
   "outputs": [],
   "source": [
    "def write_data_flex(data, output_filename_as_string, datanames=''):\n",
    "    '''-- Copied from HiCOLA --'''\n",
    "    datafile_id = open(output_filename_as_string, 'wb')    #here you open the ascii file\n",
    "    format_list = list(np.repeat('%.4e',len(data)))\n",
    "    newdata = []\n",
    "    for i in data:\n",
    "        newdata.append(np.array(i[::]))\n",
    "    realdata = np.array(newdata)\n",
    "    realdata = realdata.T     #here you transpose your data, so to have it in two columns\n",
    "    np.savetxt(datafile_id, realdata, fmt=format_list, header=datanames)    #here the ascii file is populated.\n",
    "    datafile_id.close()    #close the file\n",
    "\n",
    "def get_background(path, dum_exp):\n",
    "    _, table = dum_exp.eval()\n",
    "    a, phi, _, E, E_a, A, mu_kmou = table\n",
    "    # Unpack useful quantities\n",
    "    a_arr = a[::-1]\n",
    "    E_arr = E[::-1]\n",
    "    UE_prime_UE_arr = (a*E_a/(E))[::-1]\n",
    "    coupling_factor_arr = mu_kmou[::-1]-1\n",
    "    chioverdelta_arr = np.zeros_like(a_J)\n",
    "    GG4_arr = A[::-1]**2\n",
    "    force_data =[a_arr,chioverdelta_arr,coupling_factor_arr, GG4_arr]\n",
    "\n",
    "    # Write data to files    \n",
    "    filename_expansion = f'/{path}/files/expansion.txt'\n",
    "    filename_force = f'/{path}/files/force.txt'\n",
    "    write_data_flex([a_arr,E_arr, UE_prime_UE_arr], filename_expansion)\n",
    "    write_data_flex(force_data, filename_force)"
   ]
  },
  {
   "cell_type": "markdown",
   "metadata": {},
   "source": [
    "### Compare with old approach"
   ]
  },
  {
   "cell_type": "code",
   "execution_count": null,
   "metadata": {},
   "outputs": [],
   "source": [
    "dum_exp = KmouExpansionJordan(lamb_val=1.476)\n",
    "dum_exp.solve()\n",
    "header, table = dum_exp.eval()"
   ]
  },
  {
   "cell_type": "code",
   "execution_count": null,
   "metadata": {},
   "outputs": [],
   "source": [
    "df = pd.DataFrame(data=table.T, columns=header)\n",
    "df"
   ]
  },
  {
   "cell_type": "code",
   "execution_count": null,
   "metadata": {},
   "outputs": [],
   "source": [
    "df.plot(y='mu_kmou', x='a', logx=True)\n",
    "plt.plot(a_J, G_eff_over_G, '--')"
   ]
  },
  {
   "cell_type": "markdown",
   "metadata": {},
   "source": [
    "### Let's go"
   ]
  },
  {
   "cell_type": "code",
   "execution_count": null,
   "metadata": {},
   "outputs": [],
   "source": [
    "test = False"
   ]
  },
  {
   "cell_type": "code",
   "execution_count": null,
   "metadata": {},
   "outputs": [],
   "source": [
    "ReversePhases = False"
   ]
  },
  {
   "cell_type": "code",
   "execution_count": null,
   "metadata": {},
   "outputs": [],
   "source": [
    "out_z_list = [2, 1, 0.5, 0] # not used"
   ]
  },
  {
   "cell_type": "code",
   "execution_count": null,
   "metadata": {},
   "outputs": [],
   "source": [
    "Boxes = range(1,len(Seeds)+1)\n",
    "if ReversePhases==True:\n",
    "    Boxes=[1]\n",
    "for sim_name in sim_names:\n",
    "#     for  in box_sizes:\n",
    "    for box_size,Npart,Nmesh, Ns in zip(box_sizes,Nparts,Nmeshs, Nsteps):\n",
    "#             for Nmesh in Nmeshs:\n",
    "        for Box in Boxes:\n",
    "            Seed = Seeds[Box-1]\n",
    "            for cosmo in cosmos:\n",
    "                if ReversePhases:\n",
    "                    BoxFolder = f'Box{Box}_Reverse'\n",
    "                else:\n",
    "                    BoxFolder = f'Box{Box}'\n",
    "                # create directory tree\n",
    "                path = f'{sim_folder}/L{box_size}_NP{Npart}_NM{Nmesh}_NS{Ns}/{sim_name}/{cosmo}/{BoxFolder}/'\n",
    "                if not os.path.exists(path):\n",
    "                    os.makedirs(path)\n",
    "                # create log folders\n",
    "                log_path = f'{path}/logs/'\n",
    "                if not os.path.exists(log_path):\n",
    "                    os.makedirs(log_path)\n",
    "                # copy default FML params in sim's folder\n",
    "                out_FML_params = f'{path}/parameterfile.lua'\n",
    "                os.system(f'cp {in_FML_params} {out_FML_params}') \n",
    "\n",
    "                #==== customize paramter file with cosmology params and MG params ====#\n",
    "                FML_params_data = default_FML_params_data.copy()\n",
    "\n",
    "                ns = get_param('ns', cosmo)\n",
    "                As = get_param('As', cosmo)\n",
    "                Om = float(get_param('Om', cosmo))\n",
    "                Ob = float(get_param('Ob', cosmo))\n",
    "                h = get_param('h', cosmo)\n",
    "                Ol = 1-Om\n",
    "                Ocdm = np.round(Om - Ob,5)\n",
    "                \n",
    "                if sim_name=='LCDM':\n",
    "                    dum_exp = KmouExpansionJordan(lamb_val=10, Om0=Om)\n",
    "                    dum_exp.solve()\n",
    "                    dum_exp.get_growth_LCDM()\n",
    "                    D_bs = (dum_exp.D_LCDM.sol(1/z_ini)[1] /dum_exp.D_LCDM.sol(1)[1])\n",
    "                else:\n",
    "                    beta = float(get_param('beta', sim_name))\n",
    "                    K0 = float(get_param('K', sim_name))\n",
    "                    dum_exp = KmouExpansionJordan(lamb_val=10, beta=beta, K0=K0, Om0=Om)\n",
    "                    dum_exp.tune_lambda(maxiter=10)\n",
    "                    dum_exp.get_growth()\n",
    "                    dum_exp.get_growth_LCDM()\n",
    "                    D_bs = (dum_exp.D_kmou_J.sol(1/z_ini)[1] /dum_exp.D_LCDM.sol(1)[1])\n",
    "                    D_bs_LCDM = (dum_exp.D_LCDM.sol(1/z_ini)[1] /dum_exp.D_LCDM.sol(1)[1])\n",
    "                    print(f'The ratio of bs_fact with the LCDM case is ={(D_bs/D_bs_LCDM)**2}.')\n",
    "#                 print(f'Backscaling to z={z_ini} with D_bs={D_bs}, i.e. using bs_fact={D_bs**2}.')\n",
    "                    \n",
    "                # copy input power spectrum in sim's folder\n",
    "                files_dir= f'{path}files/'\n",
    "                if not os.path.exists(files_dir):\n",
    "                    os.makedirs(files_dir)\n",
    "                pk_to_file(Om, Ob, h, ns, As, z=0, mode='backscale_out', bs_fact=D_bs**2, out_path=files_dir)\n",
    "                \n",
    "                # Update Front End dictionary\n",
    "                if sim_name=='LCDM':\n",
    "                    FML_params_data[49] = 'cosmology_model = \"LCDM\"\\n'\n",
    "                # change relevant lines\n",
    "                FML_params_data[19] = f'particle_Npart_1D = {Npart} -- {mod_message} \\n'\n",
    "                FML_params_data[20] = f'force_nmesh = {Nmesh} -- {mod_message} \\n'\n",
    "                FML_params_data[21] = f'ic_random_seed = {Seed} -- {mod_message} \\n'\n",
    "                FML_params_data[22] = 'output_redshifts = {'+', '.join([str(z) for z in out_z_list])+'}'+f' -- {mod_message} \\n'\n",
    "#                 FML_params_data[22] = 'output_redshifts = {'+', '.join([str(np.round(zJ_from_zE(np.array(z),dum_exp),3)) for z in out_z_list])+'}'+f' -- {mod_message} \\n'\n",
    "                FML_params_data[23] = 'timestep_nsteps = {'+str(Ns)+'}'+f' -- {mod_message} \\n' #\n",
    "                FML_params_data[34] = f'simulation_boxsize = {box_size} -- {mod_message} \\n'\n",
    "                FML_params_data[51] = f'cosmology_OmegaCDM = {Ocdm} -- {mod_message} \\n'\n",
    "                FML_params_data[53] = f'cosmology_Omegab = {Ob} -- {mod_message} \\n'\n",
    "                FML_params_data[57] = f'cosmology_OmegaLambda = {Ol} -- {mod_message} \\n'\n",
    "                FML_params_data[63] =f'cosmology_h = {h} -- {mod_message} \\n'\n",
    "                FML_params_data[65] = f'cosmology_As = {As} -- {mod_message} \\n'\n",
    "                FML_params_data[67] = f'cosmology_ns = {ns} -- {mod_message} \\n'\n",
    "                FML_params_data[261] = f'ic_input_redshift = {z_ini} -- {mod_message} \\n'\n",
    "                if ReversePhases:\n",
    "                    FML_params_data[242] = f'ic_reverse_phases = true -- {mod_message} \\n'\n",
    "                    \n",
    "                # set gravity model for force\n",
    "                if sim_name=='CuGal' or sim_name=='Kmou':\n",
    "                    FML_params_data[100] = f'gravity_model = \"HiCOLA\" -- {mod_message} \\n'\n",
    "                else:\n",
    "                    FML_params_data[100] = f'gravity_model = \"GR\" -- {mod_message} \\n'\n",
    "\n",
    "                with open(out_FML_params, 'w') as f:\n",
    "                    f.writelines( FML_params_data )\n",
    "                    \n",
    "                # Write background and force files\n",
    "                get_background( path, dum_exp)\n",
    "\n",
    "                # if not os.path.exists(f'{path}/particles/pofk_snap_cb_z0.000.txt'):\n",
    "                print(path)"
   ]
  },
  {
   "cell_type": "code",
   "execution_count": null,
   "metadata": {},
   "outputs": [],
   "source": [
    "import numpy as np\n",
    "import matplotlib.pyplot as plt"
   ]
  },
  {
   "cell_type": "code",
   "execution_count": null,
   "metadata": {},
   "outputs": [],
   "source": [
    "table_1 = np.loadtxt('/Users/fiorini/GitHub/K-mouflage/Data//BensProjectSims_Kmou/L400_NP512_NM1536_NS40/Kmou_beta0.125_K1/Om0.3089_ns0.9667_As2.065e-09_h0.6774_Ob0.0486/Box1/files/force.txt')\n",
    "table_2 = np.loadtxt('/Users/fiorini/GitHub/K-mouflage/Data//BensProjectSims_Kmou/L400_NP512_NM1536_NS40/Kmou_beta0.2_K1/Om0.3089_ns0.9667_As2.065e-09_h0.6774_Ob0.0486/Box1/files/force.txt')\n",
    "plt.plot(table_1[:,0], table_1[:,2])\n",
    "plt.plot(table_2[:,0], table_2[:,2], '--')\n",
    "plt.semilogx()"
   ]
  },
  {
   "cell_type": "code",
   "execution_count": null,
   "metadata": {},
   "outputs": [],
   "source": []
  },
  {
   "cell_type": "code",
   "execution_count": null,
   "metadata": {},
   "outputs": [],
   "source": []
  }
 ],
 "metadata": {
  "kernelspec": {
   "display_name": "nbodykit",
   "language": "python",
   "name": "nbodykit"
  },
  "language_info": {
   "codemirror_mode": {
    "name": "ipython",
    "version": 3
   },
   "file_extension": ".py",
   "mimetype": "text/x-python",
   "name": "python",
   "nbconvert_exporter": "python",
   "pygments_lexer": "ipython3",
   "version": "3.8.17"
  }
 },
 "nbformat": 4,
 "nbformat_minor": 2
}
