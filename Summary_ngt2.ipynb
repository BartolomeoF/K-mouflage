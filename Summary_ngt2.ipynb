{
 "cells": [
  {
   "cell_type": "code",
   "execution_count": null,
   "id": "3429b53c",
   "metadata": {},
   "outputs": [],
   "source": [
    "import numpy as np\n",
    "import pandas as pd\n",
    "import matplotlib.pyplot as plt\n",
    "import glob"
   ]
  },
  {
   "cell_type": "code",
   "execution_count": null,
   "id": "078f121e",
   "metadata": {},
   "outputs": [],
   "source": [
    "plt.style.use('./my_style.py')"
   ]
  },
  {
   "cell_type": "code",
   "execution_count": null,
   "id": "b796b0fd",
   "metadata": {},
   "outputs": [],
   "source": [
    "from scipy.interpolate import InterpolatedUnivariateSpline\n",
    "\n",
    "def interp_df_fun(col, k_in, k_out, deg):\n",
    "    return InterpolatedUnivariateSpline(k_in, col, k=deg)(k_out)\n",
    "\n",
    "def interp_df(df, N_points=1000, deg=3, mode='log'):\n",
    "    k_min = 1e-3\n",
    "    k_max = 1\n",
    "    if mode=='lin':\n",
    "        k_out = np.linspace(k_min, k_max, N_points)\n",
    "    elif mode=='log':\n",
    "        k_out = np.logspace(np.log10(k_min), np.log10(k_max), N_points)\n",
    "    df = df.apply(lambda col: interp_df_fun(col, df.index, k_out, deg)) \n",
    "    df.index = k_out\n",
    "    return df"
   ]
  },
  {
   "cell_type": "code",
   "execution_count": null,
   "id": "203d23d9",
   "metadata": {},
   "outputs": [],
   "source": [
    "files = glob.glob('./Data/Output/n*-beta0p2-k1/out_table.txt')"
   ]
  },
  {
   "cell_type": "code",
   "execution_count": null,
   "id": "dbcffe64",
   "metadata": {},
   "outputs": [],
   "source": [
    "files"
   ]
  },
  {
   "cell_type": "code",
   "execution_count": null,
   "id": "13af2c20",
   "metadata": {},
   "outputs": [],
   "source": [
    "header = 'a_E a_J E_J dE_J/da phi_J dphi_J/da G_eff/G A_conf D_kmou'.split(' ')"
   ]
  },
  {
   "cell_type": "code",
   "execution_count": null,
   "id": "69a6ba42",
   "metadata": {},
   "outputs": [],
   "source": [
    "def read_out_table(f):\n",
    "    dum_df = pd.read_csv(f, skiprows=100, sep='\\t', names=header).set_index('a_E')\n",
    "    return interp_df(dum_df)"
   ]
  },
  {
   "cell_type": "code",
   "execution_count": null,
   "id": "c4fd1d74",
   "metadata": {},
   "outputs": [],
   "source": [
    "df_n2_old = read_out_table('./Data/Output/n2-beta0p2-k1/out_table_old.txt')"
   ]
  },
  {
   "cell_type": "code",
   "execution_count": null,
   "id": "7f9ef257",
   "metadata": {},
   "outputs": [],
   "source": [
    "df = pd.concat([read_out_table(f) for f in files], \n",
    "               axis=1, \n",
    "               keys=[f.split('/')[3].split('-')[0] for f in files]).sort_index(axis=1)"
   ]
  },
  {
   "cell_type": "code",
   "execution_count": null,
   "id": "6db7a88e",
   "metadata": {},
   "outputs": [],
   "source": [
    "idx = pd.IndexSlice"
   ]
  },
  {
   "cell_type": "code",
   "execution_count": null,
   "id": "b400f995",
   "metadata": {},
   "outputs": [],
   "source": [
    "import matplotlib.ticker as mtick"
   ]
  },
  {
   "cell_type": "code",
   "execution_count": null,
   "id": "01c685bb",
   "metadata": {},
   "outputs": [],
   "source": [
    "ax = df.apply(lambda x: x/df['n2', x.name[1]].values-1).loc[:, idx[:,'D_kmou']].plot(logx=True, \n",
    "                                                                              xlabel=r'$a_E$',\n",
    "                                                                             ylabel=r'$\\Delta D_{\\rm case}/D_{\\rm n2}$',\n",
    "                                                                             )\n",
    "(df_n2_old/df['n2']-1)['D_kmou'].plot(ax=ax)\n",
    "ax.yaxis.set_major_formatter(mtick.FuncFormatter(lambda y, _: '{:.2%}'.format(y))) \n",
    "plt.legend(['n2','n3','n4','n5', 'n2 Ben'])\n",
    "plt.savefig('./Figures/ngt2_growth_comparison.pdf', format='pdf')"
   ]
  },
  {
   "cell_type": "code",
   "execution_count": null,
   "id": "26391ef9",
   "metadata": {},
   "outputs": [],
   "source": []
  }
 ],
 "metadata": {
  "kernelspec": {
   "display_name": "Python 3 (ipykernel)",
   "language": "python",
   "name": "python3"
  },
  "language_info": {
   "codemirror_mode": {
    "name": "ipython",
    "version": 3
   },
   "file_extension": ".py",
   "mimetype": "text/x-python",
   "name": "python",
   "nbconvert_exporter": "python",
   "pygments_lexer": "ipython3",
   "version": "3.10.8"
  }
 },
 "nbformat": 4,
 "nbformat_minor": 5
}
