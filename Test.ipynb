{
 "cells": [
  {
   "cell_type": "code",
   "execution_count": null,
   "metadata": {},
   "outputs": [],
   "source": [
    "import sympy as sym\n",
    "sym.init_printing()\n",
    "import numpy as np\n",
    "import matplotlib.pyplot as plt\n",
    "import pandas as pd\n",
    "from scipy.interpolate import InterpolatedUnivariateSpline"
   ]
  },
  {
   "cell_type": "code",
   "execution_count": null,
   "metadata": {},
   "outputs": [],
   "source": [
    "plt.style.use('./my_style.py')\n",
    "import matplotlib.ticker as mticker\n",
    "\n",
    "from cycler import cycler\n",
    "import matplotlib.cm     as cm"
   ]
  },
  {
   "cell_type": "markdown",
   "metadata": {},
   "source": [
    "# Example use of solver "
   ]
  },
  {
   "cell_type": "code",
   "execution_count": null,
   "metadata": {},
   "outputs": [],
   "source": [
    "from solver import KmouExpansionJordan"
   ]
  },
  {
   "cell_type": "code",
   "execution_count": null,
   "metadata": {},
   "outputs": [],
   "source": [
    "# initilise solver\n",
    "dum_kmou = KmouExpansionJordan(beta=0.2, K0=1, lamb_val=10)"
   ]
  },
  {
   "cell_type": "code",
   "execution_count": null,
   "metadata": {},
   "outputs": [],
   "source": [
    "# dum_kmou.tune_lambda(E_target=1.105861, a_target=0.875543)\n",
    "dum_kmou.tune_lambda(E_target=1, a_target=1, frame='Einstein', maxiter=10) # tune lambda to recover E=E_target in the desired frame\n",
    "# dum_kmou.solve() # to compute solutions without tuning"
   ]
  },
  {
   "cell_type": "code",
   "execution_count": null,
   "metadata": {},
   "outputs": [],
   "source": [
    "dum_kmou.lamb_val"
   ]
  },
  {
   "cell_type": "code",
   "execution_count": null,
   "metadata": {},
   "outputs": [],
   "source": [
    "# create dataframe with some output quantities\n",
    "df_out = pd.DataFrame(np.array(dum_kmou.eval()).T, columns=['a', 'phi', 'phi_a', 'E', 'E_a']).set_index('a')"
   ]
  },
  {
   "cell_type": "code",
   "execution_count": null,
   "metadata": {},
   "outputs": [],
   "source": [
    "# Check E'/E\n",
    "plt.semilogx(df_out.E_a*df_out.index/df_out.E)\n",
    "plt.hlines(-3/2, 1e-3, 1, colors='k', linestyles='--')"
   ]
  },
  {
   "cell_type": "markdown",
   "metadata": {},
   "source": [
    "### Comparison with Ben: $K_0=1$, $\\beta=0.2$, $n=2$"
   ]
  },
  {
   "cell_type": "code",
   "execution_count": null,
   "metadata": {},
   "outputs": [],
   "source": [
    "header_str = 'a,  H_MG,  H_LCDM, H_MG/H_LCDM,  aH dH/da / H0^2 ,  phi , d phi/ dlna'\n",
    "header = [s.strip(' ')for s in header_str.split(',')]\n",
    "\n",
    "df_Ben_BG = pd.DataFrame(np.loadtxt('./Data/Background/background_k01_glam.dat'), columns=header).set_index('a')"
   ]
  },
  {
   "cell_type": "code",
   "execution_count": null,
   "metadata": {},
   "outputs": [],
   "source": [
    "df_Ben_BG['A'] = np.e**(df_Ben_BG.phi*0.2)\n",
    "df_Ben_BG['a_J'] = df_Ben_BG['A']*df_Ben_BG.index"
   ]
  },
  {
   "cell_type": "code",
   "execution_count": null,
   "metadata": {},
   "outputs": [],
   "source": [
    "a_E = np.logspace(-4,0,1000)\n",
    "a_J = dum_kmou.get_a_Jor(a_E)"
   ]
  },
  {
   "cell_type": "code",
   "execution_count": null,
   "metadata": {},
   "outputs": [],
   "source": [
    "df_out = pd.DataFrame(np.array(dum_kmou.eval(a_vals=a_J)).T, columns=['a', 'phi', 'phi_a', 'H_MG', 'E_a']).set_index('a')"
   ]
  },
  {
   "cell_type": "code",
   "execution_count": null,
   "metadata": {},
   "outputs": [],
   "source": [
    "plt.semilogx((df_out['H_MG']/dum_kmou.E_LCDM_fun(a_E)))\n",
    "plt.semilogx((df_Ben_BG['H_MG']/df_Ben_BG['H_LCDM']),'--')\n",
    "plt.ylim(0.9,1.1)"
   ]
  },
  {
   "cell_type": "markdown",
   "metadata": {},
   "source": [
    "# Compute growth factor"
   ]
  },
  {
   "cell_type": "code",
   "execution_count": null,
   "metadata": {},
   "outputs": [],
   "source": [
    "dum_kmou.get_growth()"
   ]
  },
  {
   "cell_type": "code",
   "execution_count": null,
   "metadata": {},
   "outputs": [],
   "source": [
    "dum_kmou.get_growth_LCDM()"
   ]
  },
  {
   "cell_type": "code",
   "execution_count": null,
   "metadata": {},
   "outputs": [],
   "source": [
    "plt.plot(dum_kmou.D_kmou_J['t'],dum_kmou.D_kmou_J['y'][1])\n",
    "plt.plot(dum_kmou.D_LCDM['t'],dum_kmou.D_LCDM['y'][1])\n"
   ]
  },
  {
   "cell_type": "code",
   "execution_count": null,
   "metadata": {},
   "outputs": [],
   "source": [
    "# produce familiar growth ratio with LCDM\n",
    "a_E = np.logspace(-4,0,1000)\n",
    "a_J = dum_kmou.get_a_Jor(a_E)\n",
    "\n",
    "plt.semilogx(a_E , dum_kmou.D_kmou_J.sol(a_J)[1]/dum_kmou.D_LCDM.sol(a_E)[1])\n"
   ]
  }
 ],
 "metadata": {
  "kernelspec": {
   "display_name": "pyoperon",
   "language": "python",
   "name": "pyoperon"
  },
  "language_info": {
   "codemirror_mode": {
    "name": "ipython",
    "version": 3
   },
   "file_extension": ".py",
   "mimetype": "text/x-python",
   "name": "python",
   "nbconvert_exporter": "python",
   "pygments_lexer": "ipython3",
   "version": "3.12.0"
  }
 },
 "nbformat": 4,
 "nbformat_minor": 4
}
