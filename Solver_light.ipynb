{
 "cells": [
  {
   "cell_type": "code",
   "execution_count": null,
   "metadata": {},
   "outputs": [],
   "source": [
    "%matplotlib inline\n",
    "%config InlineBackend.figure_format='retina'\n",
    "# Plotting settings\n",
    "a_min = 1e-3\n",
    "a_max = 1\n",
    "margin = 1.3"
   ]
  },
  {
   "cell_type": "markdown",
   "metadata": {},
   "source": [
    "# Linear predictions"
   ]
  },
  {
   "cell_type": "code",
   "execution_count": null,
   "metadata": {},
   "outputs": [],
   "source": [
    "# from astropy.cosmology import Planck18_arXiv_v2 as cosmo"
   ]
  },
  {
   "cell_type": "code",
   "execution_count": null,
   "metadata": {},
   "outputs": [],
   "source": [
    "import sympy as sym\n",
    "\n",
    "import numpy as np\n",
    "from sympy import symbols, sqrt, lambdify, Function, solve, Derivative, init_printing, exp, pi, sympify, nsimplify, Float, N\n",
    "init_printing()\n",
    "from scipy.integrate import odeint, solve_ivp\n",
    "import matplotlib.pyplot as plt\n",
    "import pandas as pd\n",
    "from scipy.interpolate import InterpolatedUnivariateSpline"
   ]
  },
  {
   "cell_type": "code",
   "execution_count": null,
   "metadata": {},
   "outputs": [],
   "source": [
    "plt.style.use('./my_style.py')\n",
    "import matplotlib.ticker as mticker\n",
    "\n",
    "from cycler import cycler\n",
    "import matplotlib.cm     as cm"
   ]
  },
  {
   "cell_type": "code",
   "execution_count": null,
   "metadata": {},
   "outputs": [],
   "source": [
    "#Symbolic variables\n",
    "x, y, mu, k, E_diffa= symbols(r' x, y, \\mu, k, E_a')\n",
    "a= symbols('a', positive=True)\n",
    "D= Function('D')\n",
    "E = Function('E')(a)\n",
    "\n",
    "Om0  = symbols('O_m0')"
   ]
  },
  {
   "cell_type": "code",
   "execution_count": null,
   "metadata": {},
   "outputs": [],
   "source": [
    "Om0_val = nsimplify(0.3089)\n",
    "\n",
    "Ol0 = 1- Om0_val\n",
    "H0_hinvMpc= 1/2997.92458"
   ]
  },
  {
   "cell_type": "code",
   "execution_count": null,
   "metadata": {},
   "outputs": [],
   "source": [
    "H = H0_hinvMpc*E\n",
    "H_LCDM = H0_hinvMpc*sqrt(Om0_val*a**(-3) + Ol0)\n",
    "H_LCDM_Or = H0_hinvMpc*sqrt(Om0_val*a**(-3) + Ol0+ 8*10**(-5)*a**(-4))\n",
    "H_conf = H*a\n",
    "Om = Om0_val*a**(-3)\n",
    "Ol = Ol0"
   ]
  },
  {
   "cell_type": "markdown",
   "metadata": {},
   "source": [
    "# Background"
   ]
  },
  {
   "cell_type": "markdown",
   "metadata": {},
   "source": [
    "#### $k$-mouflage"
   ]
  },
  {
   "cell_type": "markdown",
   "metadata": {},
   "source": [
    "We use that:\n",
    "- $\\rho_m = 3 \\Omega_m H_0^2 /(8 \\pi G)$\n",
    "- $\\frac{d}{dt} = \\frac{d}{a d\\tau}$\n",
    "- $\\dot{\\phi} = \\phi^{\\prime}/a$\n",
    "- $\\ddot{\\phi} = \\frac{d}{dt}(\\phi^{\\prime}/a) = \\frac{1}{a^2}\\phi^{\\prime\\prime} - \\frac{1}{a^2} \\phi^{\\prime} \\mathcal{H}$\n",
    "\n",
    "and as above:\n",
    "$$\\frac{d}{d\\tau} = a \\mathcal{H} \\frac{d}{da}$$"
   ]
  },
  {
   "cell_type": "markdown",
   "metadata": {},
   "source": [
    "### Ben's Data"
   ]
  },
  {
   "cell_type": "code",
   "execution_count": null,
   "metadata": {},
   "outputs": [],
   "source": [
    "header_str = 'a,  H_MG,  H_LCDM, H_MG/H_LCDM,  aH dH/da / H0^2 ,  phi , d phi/ dlna'\n",
    "header = [s.strip(' ')for s in header_str.split(',')]\n",
    "\n",
    "df_Ben_BG = pd.DataFrame(np.loadtxt('./Data/Background/background_k01_glam.dat'), columns=header).set_index('a')"
   ]
  },
  {
   "cell_type": "markdown",
   "metadata": {},
   "source": [
    "# Test solver\n",
    "\n",
    "We first construct a solver that uses 3 variables:\n",
    "- $\\phi$\n",
    "- $\\phi_a \\equiv \\frac{d \\phi}{d a}$\n",
    "- $E_a \\equiv \\frac{d E}{d a}$\n",
    "\n",
    "We compare its solutions to Ben's."
   ]
  },
  {
   "cell_type": "code",
   "execution_count": null,
   "metadata": {},
   "outputs": [],
   "source": [
    "# lamb =1.476\n",
    "lamb_val = nsimplify(1.476)\n",
    "lamb =symbols(r'\\lambda')\n",
    "beta=0.2 \n",
    "n=2\n",
    "K0=1\n",
    "H0_target=1\n",
    "a_ini=3e-5\n",
    "a_fin=2\n",
    "\n",
    "phi_p, phi_pp, X, rho_m, G = symbols(r'\\phi^{\\prime}, \\phi^{\\prime\\prime}, X, \\rho_m, G')\n",
    "phi = Function(r'\\phi')(a)\n",
    "phi_d, phi_dd = symbols(r'\\dot{\\phi}, \\ddot{\\phi}')\n",
    "phi_a = symbols(r'\\phi_a')\n",
    "\n",
    "phi_p = a*H_conf*phi.diff(a)\n",
    "phi_pp = a*H_conf*(phi_p).diff(a)\n",
    "\n",
    "A = exp(beta*phi)\n",
    "rho_m = (Om*H0_hinvMpc**2/(8*pi*G/3))#.evalf(30) # convert rho_m into Om\n",
    "phi_d = phi_p/a\n",
    "phi_dd = phi_pp/a**2 - phi_p/a**2*H_conf\n",
    "\n",
    "K = (-1 + X + K0*X**n)\n",
    "K_x = K.diff(X)\n",
    "K_xx = K_x.diff(X)\n",
    "X_bar = phi_p**2/(2*lamb**2 * a**2 * H0_hinvMpc**2)\n",
    "K_x_bar = K_x.subs(X, X_bar)\n",
    "K_xx_bar = K_xx.subs(X, X_bar)\n",
    "\n",
    "kmou_back = ((K_x + 2*X*K_xx)*phi_dd + 3*H*K_x*phi_d + A.diff(phi)*8*pi*G * rho_m).evalf(n=30, subs={Om0:Om0_val})\n",
    "H_kmou_sq = rho_m/3*8*pi*G*A+(K_x*phi_d**2/3 - lamb**2*K*H0_hinvMpc**2/3) -H**2\n",
    "\n",
    "E_kmou_a_eq = (((-4*pi*G*A*rho_m - K_x*phi_d**2/2 - lamb**2*H0_hinvMpc**2*K)/3-H**2)/H_conf/H0_hinvMpc).evalf(n=30, subs={Om0:Om0_val})\n",
    "\n",
    "dphia_o_da_sym_eq = solve(kmou_back.subs(phi.diff(a),phi_a),Derivative(phi_a,a))[0]\n",
    "dphia_o_da_sym_eq = dphia_o_da_sym_eq.subs(E.diff(a), E_kmou_a_eq).subs(X, X_bar).subs(phi.diff(a),phi_a)\n",
    "\n",
    "# dphia_o_da_sym_eq = solve(kmou_back.subs(E.diff(a),E_kmou_a_eq).subs(phi.diff(a),phi_a), Derivative(phi_a,a))[0]\n",
    "dE_o_da_sym_eq = E_kmou_a_eq.subs(X, X_bar).subs(phi.diff(a),phi_a)\n",
    "\n",
    "dphi_o_da_eq = lambdify((a, phi, phi_a, E), phi_a)\n",
    "dphia_o_da_eq = lambdify((a, phi, phi_a, E), dphia_o_da_sym_eq.evalf(30, subs={lamb:lamb_val}),\n",
    "                        modules='mpmath')\n",
    "dE_o_da_eq = lambdify((a, phi, phi_a, E), dE_o_da_sym_eq.evalf(30, subs={lamb:lamb_val}),\n",
    "                     modules='mpmath')\n",
    "\n",
    "\n",
    "def dum_fun(t,vec):\n",
    "    '''Dummy function to adapt the input of solve_ivp'''\n",
    "    return (dphi_o_da_eq(t,vec[0],vec[1], vec[2]),\n",
    "            dphia_o_da_eq(t,vec[0],vec[1], vec[2]),\n",
    "           dE_o_da_eq(t,vec[0],vec[1], vec[2]))\n",
    "\n",
    "# Compute the solution of the differential equation\n",
    "H_kmou_sol = solve_ivp(dum_fun, t_span=(a_ini,a_fin), y0=(-0.1*a_ini, -1, H_LCDM.subs(a,a_ini)/H0_hinvMpc),\n",
    "                       dense_output=True, rtol=1e-9,\n",
    "                       method='LSODA',\n",
    "                       atol=1e-9\n",
    "                      )"
   ]
  },
  {
   "cell_type": "code",
   "execution_count": null,
   "metadata": {},
   "outputs": [],
   "source": [
    "fig, axs = plt.subplots(2, height_ratios=[2,1], sharex=True)\n",
    "axs[0].plot(H_kmou_sol['t'], abs(H_kmou_sol['y'][2]), '-',label=\"$K$-mou\")\n",
    "axs[0].plot(H_kmou_sol['t'], lambdify(a,H_LCDM)(H_kmou_sol['t'])/H0_hinvMpc, 'k:', label='$\\Lambda$CDM')\n",
    "\n",
    "axs[0].legend();\n",
    "axs[0].set_xscale('log')\n",
    "axs[0].set_yscale('log')\n",
    "axs[0].set_ylabel(r'$E \\equiv H/H_0$')\n",
    "\n",
    "axs[1].plot(H_kmou_sol['t'], abs(H_kmou_sol['y'][2])/lambdify(a,H_LCDM)(H_kmou_sol['t'])*H0_hinvMpc, label=\"Bart's solver\")\n",
    "# axs[1].set_ylim(0.8,1.1)\n",
    "axs[1].set_xlabel(r'$a$')\n",
    "axs[1].set_ylabel(r'$E_{\\rm case}/ E_{\\rm \\Lambda CDM}$')\n",
    "fig.subplots_adjust(hspace=0);"
   ]
  },
  {
   "cell_type": "code",
   "execution_count": null,
   "metadata": {},
   "outputs": [],
   "source": [
    "fig, ax = plt.subplots(1, sharex=True)\n",
    "ax.plot(H_kmou_sol['t'], abs(H_kmou_sol['y'][0]), label='phi')\n",
    "ax.plot(H_kmou_sol['t'], abs(H_kmou_sol['y'][1]), label='dphi/da')\n",
    "\n",
    "ax.legend();\n",
    "ax.set_xscale('log')\n",
    "ax.set_yscale('log')\n",
    "ax.set_ylim(a_ini,1000);"
   ]
  },
  {
   "cell_type": "code",
   "execution_count": null,
   "metadata": {},
   "outputs": [],
   "source": [
    "fig, axs = plt.subplots(2, height_ratios=[2,1], sharex=True)\n",
    "# axs[0].plot(H_kmou_sol['t'], E_3p55, label='Bart Eq 3.55')\n",
    "axs[0].plot(df_Ben_BG.index, df_Ben_BG['H_MG'], '--', label='Ben Eq 3.55' )\n",
    "axs[0].plot(H_kmou_sol['t'], abs(H_kmou_sol['y'][2]), '--',label=\"Bart's solver\")\n",
    "axs[0].plot(df_Ben_BG.index, lambdify(a,H_LCDM)(df_Ben_BG.index)/H0_hinvMpc, 'k:', label='$\\Lambda$CDM')\n",
    "\n",
    "axs[0].legend();\n",
    "axs[0].set_xscale('log')\n",
    "axs[0].set_yscale('log')\n",
    "axs[0].set_ylabel(r'$E \\equiv H/H_0$')\n",
    "\n",
    "#axs[1].plot(H_kmou_sol['t'], E_3p55/lambdify(a,H_LCDM)(H_kmou_sol['t'])*H0_hinvMpc, label='Bart Eq 3.55')\n",
    "axs[1].plot(df_Ben_BG.index, df_Ben_BG['H_MG']/lambdify(a,H_LCDM)(df_Ben_BG.index)*H0_hinvMpc, label='Ben Eq 3.55' )\n",
    "axs[1].plot(H_kmou_sol['t'], abs(H_kmou_sol['y'][2])/lambdify(a,H_LCDM)(H_kmou_sol['t'])*H0_hinvMpc, label=\"Bart's solver\")\n",
    "axs[1].set_ylim(0.8,1.1)\n",
    "axs[1].set_xlabel(r'$a$')\n",
    "axs[1].set_ylabel(r'$E_{\\rm case}/ E_{\\rm \\Lambda CDM}$')\n",
    "fig.subplots_adjust(hspace=0);"
   ]
  },
  {
   "cell_type": "code",
   "execution_count": null,
   "metadata": {},
   "outputs": [],
   "source": [
    "# plt.loglog(H_kmou_sol['t'], abs(H_kmou_sol['y'][2]))\n",
    "plt.semilogx(abs(df_Ben_BG['H_MG'])/H_kmou_sol.sol(df_Ben_BG.index)[2])\n",
    "plt.semilogx((df_Ben_BG['phi'])/H_kmou_sol.sol(df_Ben_BG.index)[0])\n",
    "plt.semilogx((df_Ben_BG['d phi/ dlna'])/H_kmou_sol.sol(df_Ben_BG.index)[1]/df_Ben_BG.index)\n",
    "plt.ylim(0.9,1.1)"
   ]
  },
  {
   "cell_type": "markdown",
   "metadata": {},
   "source": [
    "# Jordan frame"
   ]
  },
  {
   "cell_type": "code",
   "execution_count": null,
   "metadata": {},
   "outputs": [],
   "source": [
    "lamb =1.476\n",
    "beta=0.2 \n",
    "n=2\n",
    "K0=1\n",
    "H0_target=1\n",
    "a_ini=3e-4\n",
    "a_fin=2"
   ]
  },
  {
   "cell_type": "code",
   "execution_count": null,
   "metadata": {},
   "outputs": [],
   "source": [
    "phi_p, phi_pp, X, rho_m, G = symbols(r'\\phi^{\\prime}, \\phi^{\\prime\\prime}, X, \\rho_m, G')\n",
    "phi = Function(r'\\phi')(a)\n",
    "phi_d, phi_dd = symbols(r'\\dot{\\phi}, \\ddot{\\phi}')\n",
    "phi_a = symbols(r'\\phi_a')\n",
    "\n",
    "phi_p = a*H_conf*phi.diff(a)\n",
    "phi_pp = a*H_conf*(phi_p).diff(a)\n",
    "\n",
    "A = exp(beta*phi)\n",
    "rho_m = Om*H0_hinvMpc**2/(8*pi*G/3) # convert rho_m into Om\n",
    "rho_m0 = Om0_val*H0_hinvMpc**2/(8*pi*G/3) \n",
    "phi_d = phi_p/a\n",
    "phi_dd = phi_pp/a**2 - phi_p/a**2*H_conf\n",
    "\n",
    "K = (-1 + X + K0*X**n)\n",
    "K_x = K.diff(X)\n",
    "K_xx = K_x.diff(X)\n",
    "X_bar = A**2 * phi_p**2/(2*lamb**2 * a**2 * H0_hinvMpc**2)\n",
    "K_bar = K.subs(X, X_bar)\n",
    "K_x_bar = K_x.subs(X, X_bar)\n",
    "K_xx_bar = K_xx.subs(X, X_bar)\n",
    "\n",
    "M_pl = 1/sqrt(8*pi*G) \n",
    "rho_phi = M_pl**2 * H0_hinvMpc**2 *lamb**2 / A**4 * (2*X_bar*K_x_bar - K_bar)\n",
    "p_phi = M_pl**2 * H0_hinvMpc**2 *lamb**2 / A**4 * (K_bar)\n",
    "O_phi = rho_phi/(3*H0_hinvMpc**2*M_pl**2)\n",
    "\n",
    "eps2 = a*beta*phi.diff(a)\n",
    "eps1 = 2*beta**2/K_x_bar\n",
    "\n",
    "E_kmou_sq = A**2/(1-eps2)**2 * (Om + O_phi)\n",
    "E_kmou = solve(E_kmou_sq - E**2, E)[1]\n",
    "# E_kmou = sqrt((solve(E_kmou_sq.expand()- E**2, E**2)[-1]))\n",
    "\n",
    "E_kmou_a = (- 3/2*H0_hinvMpc/H_conf* (A**2 / (1-eps2) *(Om + (rho_phi + p_phi)/(3*M_pl**2 *H0_hinvMpc**2)) + \n",
    "                                    2*A**2/(3*(1-eps2)**2)*(eps2 - 1/(1-eps2)*a*eps2.diff(a))*(Om + O_phi) )\n",
    "                                    ).subs(phi.diff(a),phi_a)"
   ]
  },
  {
   "cell_type": "code",
   "execution_count": null,
   "metadata": {},
   "outputs": [],
   "source": [
    "dphia_o_da_sym_eq = H_conf * (A**(-2) * a**3 *H_conf *phi.diff(a)* K_x_bar).diff(a) + beta*rho_m0/M_pl**2\n",
    "\n",
    "dphia_o_da_sym_eq = dphia_o_da_sym_eq.subs(E.diff(a), E_kmou_a)\n",
    "dphia_o_da_sym_eq = solve(dphia_o_da_sym_eq.subs(phi.diff(a), phi_a), Derivative(phi_a, a))[0]\n",
    "\n",
    "dphi_o_da_eq = lambdify((a, phi, phi_a, E), phi_a)\n",
    "dphia_o_da_eq = lambdify((a, phi, phi_a, E), dphia_o_da_sym_eq.evalf(30, subs={lamb:lamb_val}))\n",
    "dE_o_da_eq = lambdify((a, phi, phi_a, E), E_kmou_a.subs(Derivative(phi_a, a), dphia_o_da_sym_eq).evalf(30, subs={lamb:lamb_val}))\n",
    "\n",
    "def dum_fun(t,vec):\n",
    "    '''Dummy function to adapt the input of solve_ivp'''\n",
    "    return (dphi_o_da_eq(t,vec[0],vec[1], vec[2]),\n",
    "            dphia_o_da_eq(t,vec[0],vec[1], vec[2]),\n",
    "           dE_o_da_eq(t,vec[0],vec[1], vec[2]))\n",
    "\n",
    "# Compute the solution of the differential equation\n",
    "H_kmou_sol_J = solve_ivp(dum_fun, t_span=(a_ini,a_fin), y0=(-0.1*a_ini, -1, H_LCDM.subs(a,a_ini)/H0_hinvMpc),\n",
    "                       dense_output=True, rtol=1e-9,\n",
    "                       # method='BDF',\n",
    "                       atol=1e-9\n",
    "                      )"
   ]
  },
  {
   "cell_type": "code",
   "execution_count": null,
   "metadata": {},
   "outputs": [],
   "source": [
    "dphiada_sol = solve(dphia_o_da_sym_eq.subs(phi.diff(a), phi_a), Derivative(phi_a, a))"
   ]
  },
  {
   "cell_type": "code",
   "execution_count": null,
   "metadata": {},
   "outputs": [],
   "source": [
    "dphia_o_da_sym_eq = H_conf * (A**(-2) * a**3 *H_conf *phi.diff(a)* K_x_bar).diff(a) + beta*rho_m0/M_pl**2\n",
    "\n",
    "dphia_o_da_sym_eq = dphia_o_da_sym_eq.subs(E.diff(a), E_kmou_a)\n",
    "dphia_o_da_sym_eq = solve(dphia_o_da_sym_eq.subs(phi.diff(a), phi_a), Derivative(phi_a, a))[0]\n",
    "dphia_o_da_sym_eq = dphia_o_da_sym_eq.subs(E, E_kmou).subs(phi.diff(a), phi_a).subs(lamb, lamb_val)\n",
    "\n",
    "dphi_o_da_eq = lambdify((a, phi, phi_a), phi_a)\n",
    "dphia_o_da_eq = lambdify((a, phi, phi_a), dphia_o_da_sym_eq)\n",
    "\n",
    "def dum_fun(t,vec):\n",
    "    '''Dummy function to adapt the input of solve_ivp'''\n",
    "    return (dphi_o_da_eq(t,vec[0],vec[1]),\n",
    "            dphia_o_da_eq(t,vec[0],vec[1]))\n",
    "\n",
    "# Compute the solution of the differential equation\n",
    "H_kmou_sol_J = solve_ivp(dum_fun, t_span=(a_ini,a_fin), y0=(-0.1*a_ini, -1), dense_output=True, \n",
    "                       rtol=1e-9,\n",
    "#                   method='Radau'\n",
    "                      )"
   ]
  },
  {
   "cell_type": "markdown",
   "metadata": {},
   "source": [
    "(1+ beta A a dphi/da) = d a_E / d a_J = ( d (a_E* A) / d a_E)^-1"
   ]
  },
  {
   "cell_type": "markdown",
   "metadata": {},
   "source": [
    "d phi /da_J = (A+ beta A a dphi/da) * d phi /da_E"
   ]
  },
  {
   "cell_type": "code",
   "execution_count": null,
   "metadata": {},
   "outputs": [],
   "source": [
    "fig, axs = plt.subplots(2, height_ratios=[2,1], sharex=True)\n",
    "axs[0].plot(H_kmou_sol['t'], abs(H_kmou_sol['y'][2]), '-',label=\"$K$-mou E\")\n",
    "axs[0].plot(H_kmou_sol_J['t'], abs(H_kmou_sol_J['y'][2]), '--',label=\"$K$-mou J\")\n",
    "axs[0].plot(H_kmou_sol['t'], lambdify(a,H_LCDM)(H_kmou_sol['t'])/H0_hinvMpc, 'k:', label='$\\Lambda$CDM')\n",
    "\n",
    "axs[0].legend();\n",
    "axs[0].set_xscale('log')\n",
    "axs[0].set_yscale('log')\n",
    "axs[0].set_ylabel(r'$E \\equiv H/H_0$')\n",
    "\n",
    "axs[1].plot(H_kmou_sol['t'], abs(H_kmou_sol['y'][2])/lambdify(a,H_LCDM)(H_kmou_sol['t'])*H0_hinvMpc)\n",
    "axs[1].plot(H_kmou_sol_J['t']/np.e**(beta*H_kmou_sol_J['y'][0]), abs(H_kmou_sol_J['y'][2])/lambdify(a,H_LCDM)(H_kmou_sol_J['t'])*H0_hinvMpc, '--')\n",
    "# axs[1].set_ylim(0.8,1.1)\n",
    "axs[1].set_xlabel(r'$a$')\n",
    "axs[1].set_ylabel(r'$E_{\\rm case}/ E_{\\rm \\Lambda CDM}$')\n",
    "fig.subplots_adjust(hspace=0);"
   ]
  },
  {
   "cell_type": "code",
   "execution_count": null,
   "metadata": {},
   "outputs": [],
   "source": [
    "fig, axs = plt.subplots(2, height_ratios=[2,1], sharex=True)\n",
    "a_vals_E = np.logspace(-3,0,1000)\n",
    "a_vals_J = a_vals_E*np.e**(beta*H_kmou_sol.sol(a_vals_E)[0])\n",
    "axs[0].plot(a_vals_J, abs(H_kmou_sol_J.sol(a_vals_J)[0]), lw=1,label=r'Jordan $|\\varphi|$')\n",
    "axs[0].plot(a_vals_J, abs(H_kmou_sol_J.sol(a_vals_J)[1]), lw=1,label=r'Jordan $|\\frac{d \\varphi}{da}|$')\n",
    "axs[0].plot(a_vals_E, abs(H_kmou_sol.sol(a_vals_E)[0]), 'C0--',label=r'Einstein $|\\varphi|$')\n",
    "axs[0].plot(a_vals_E, abs(H_kmou_sol.sol(a_vals_E)[1]), 'C1--',label=r'Einstein $|\\frac{d \\varphi}{da}|$')\n",
    "\n",
    "axs[0].legend();\n",
    "axs[0].set_xscale('log')\n",
    "axs[0].set_yscale('log')\n",
    "axs[0].set_ylim(a_ini,10)\n",
    "\n",
    "axs[1].plot(a_vals_J, (H_kmou_sol_J.sol(a_vals_J)[0])/(H_kmou_sol.sol(a_vals_E)[0]), 'C0')\n",
    "axs[1].plot(a_vals_J, (H_kmou_sol_J.sol(a_vals_J)[1])/(H_kmou_sol.sol(a_vals_E)[1]), 'C1')\n",
    "\n",
    "# axs[1].set_ylim(0.95,1.05)\n",
    "axs[1].set_xlabel(r'$a$')\n",
    "axs[1].set_ylabel(r'Bart/Ben')\n",
    "fig.subplots_adjust(hspace=0);"
   ]
  },
  {
   "cell_type": "markdown",
   "metadata": {},
   "source": [
    "# Jordan frame function"
   ]
  },
  {
   "cell_type": "code",
   "execution_count": null,
   "metadata": {},
   "outputs": [],
   "source": [
    "def solve_Kmou_expansion_Jordan(lamb=0.01, beta=0.2, n=2, K0=1, mode='search', H0_target=1, a_ini=3e-5, a_fin=1):\n",
    "    phi_p, phi_pp, X, rho_m, G = symbols(r'\\phi^{\\prime}, \\phi^{\\prime\\prime}, X, \\rho_m, G')\n",
    "    phi = Function(r'\\phi')(a)\n",
    "    phi_d, phi_dd = symbols(r'\\dot{\\phi}, \\ddot{\\phi}')\n",
    "    # symbols for system of diff eq\n",
    "    phi_a = symbols(r'\\phi_a')\n",
    "    \n",
    "    phi_p = a*H_conf*phi.diff(a)\n",
    "    phi_pp = a*H_conf*(phi_p).diff(a)\n",
    "    \n",
    "    A = exp(beta*phi)\n",
    "    rho_m = Om*H0_hinvMpc**2/(8*pi*G/3) # convert rho_m into Om\n",
    "    rho_m0 = Om0_val*H0_hinvMpc**2/(8*pi*G/3) \n",
    "    phi_d = phi_p/a\n",
    "    phi_dd = phi_pp/a**2 - phi_p/a**2*H_conf\n",
    "    \n",
    "    K = (-1 + X + K0*X**n)\n",
    "    K_x = K.diff(X)\n",
    "    K_xx = K_x.diff(X)\n",
    "    X_bar = A**2 * phi_p**2/(2*lamb**2 * a**2 * H0_hinvMpc**2)\n",
    "    K_bar = K.subs(X, X_bar)\n",
    "    K_x_bar = K_x.subs(X, X_bar)\n",
    "    K_xx_bar = K_xx.subs(X, X_bar)\n",
    "    \n",
    "    M_pl = 1/sqrt(8*pi*G) \n",
    "    rho_phi = M_pl**2 * H0_hinvMpc**2 *lamb**2 / A**4 * (2*X_bar*K_x_bar - K_bar)\n",
    "    p_phi = M_pl**2 * H0_hinvMpc**2 *lamb**2 / A**4 * (K_bar)\n",
    "    O_phi = rho_phi/(3*H0_hinvMpc**2*M_pl**2)\n",
    "\n",
    "    eps2 = a*beta*phi.diff(a)\n",
    "    eps1 = 2*beta**2/K_x_bar\n",
    "    \n",
    "    E_kmou_sq = A**2/(1-eps2)**2 * (Om + O_phi)\n",
    "    E_kmou = solve(E_kmou_sq - E**2, E)[1]\n",
    "    E_kmou_a = - 3/2*H0_hinvMpc/H_conf* (A**2 / (1-eps2) *(Om + (rho_phi + p_phi)/(3*M_pl**2 *H0_hinvMpc**2)) + \n",
    "                                    2*A**2/(3*(1-eps2)**2)*(eps2 - 1/(1-eps2)*a*eps2.diff(a))*(Om + O_phi) )\n",
    "\n",
    "    dphia_o_da_sym_eq = H_conf * (A**(-2) * a**3 *H_conf *phi.diff(a)* K_x_bar).diff(a) + beta*rho_m0/M_pl**2\n",
    "    dphia_o_da_sym_eq = dphia_o_da_sym_eq.subs(E.diff(a), E_kmou_a)\n",
    "    dphia_o_da_sym_eq = solve(dphia_o_da_sym_eq.subs(phi.diff(a), phi_a), Derivative(phi_a, a))[0]\n",
    "    dphia_o_da_sym_eq = dphia_o_da_sym_eq.subs(E, E_kmou).subs(phi.diff(a), phi_a)\n",
    "    \n",
    "    dphi_o_da_eq = lambdify((a, phi, phi_a), phi_a)\n",
    "    dphia_o_da_eq = lambdify((a, phi, phi_a), dphia_o_da_sym_eq)\n",
    "\n",
    "    def dum_fun(t,vec):\n",
    "        '''Dummy function to adapt the input of solve_ivp'''\n",
    "        return (dphi_o_da_eq(t,vec[0],vec[1]),\n",
    "                dphia_o_da_eq(t,vec[0],vec[1]))\n",
    "\n",
    "    # Compute the solution of the differential equation\n",
    "    H_kmou_sol = solve_ivp(dum_fun, t_span=(a_ini,a_fin), y0=(-1*a_ini*1e-15, -1), dense_output=True, \n",
    "                           rtol=1e-9,atol=1e-9,\n",
    "                      method='LSODA'\n",
    "                          )\n",
    "    if mode=='search':\n",
    "        E_kmou_fun =lambdify((a, phi, phi_a), E_kmou.subs(phi.diff(a), phi_a))\n",
    "        return np.array(E_kmou_fun(1, H_kmou_sol.sol(1)[0], H_kmou_sol.sol(1)[1]) - H0_target)/H0_target\n",
    "    elif mode=='phi':\n",
    "        return H_kmou_sol\n",
    "    elif mode=='full':\n",
    "        E_kmou_fun =lambdify((a, phi, phi_a), E_kmou.subs(phi.diff(a), phi_a))\n",
    "        E_kmou_a_fun =lambdify((a, phi, phi_a), E_kmou_a_eq.subs(X, X_bar).subs(phi.diff(a),phi_a).subs(E,E_kmou).subs(phi.diff(a), phi_a))\n",
    "        return H_kmou_sol, E_kmou_fun, E_kmou_a_fun"
   ]
  },
  {
   "cell_type": "code",
   "execution_count": null,
   "metadata": {},
   "outputs": [],
   "source": [
    "from scipy.optimize import newton"
   ]
  },
  {
   "cell_type": "code",
   "execution_count": null,
   "metadata": {},
   "outputs": [],
   "source": [
    "# a_ini=3e-5\n",
    "# best_lamb_J = newton(lambda l: solve_Kmou_expansion_Jordan(l, a_ini=a_ini, beta=0.2, K0=1, n=2), 1.4,maxiter=5)"
   ]
  },
  {
   "cell_type": "code",
   "execution_count": null,
   "metadata": {},
   "outputs": [],
   "source": [
    "# H_kmou_sol, E_kmou_fun, E_kmou_a_fun = solve_Kmou_expansion_Jordan(10, beta=0.2, K0=1, n=3, mode='full', a_ini=3e-5)\n",
    "\n",
    "# E_3p55 = np.array([E_kmou_fun(t,f,f_p) \n",
    "#                    for t,f,f_p in zip(H_kmou_sol['t'], H_kmou_sol['y'][0], H_kmou_sol['y'][1])])\n",
    "\n",
    "# E_3p55_Ben = np.array([E_kmou_fun(t,f,f_p) for \n",
    "#                    t,f,f_p in zip(df_Ben_BG.index, df_Ben_BG['phi'], df_Ben_BG['d phi/ dlna']/df_Ben_BG.index)])\n",
    "\n",
    "# E_3p56 = np.array([E_kmou_a_fun(t,f,f_p) \n",
    "#                    for t,f,f_p in zip(H_kmou_sol['t'], H_kmou_sol['y'][0], H_kmou_sol['y'][1])])\n",
    "\n",
    "# E_3p56_Ben = np.array([E_kmou_a_fun(t,f,f_p) for \n",
    "#                    t,f,f_p in zip(df_Ben_BG.index, df_Ben_BG['phi'], df_Ben_BG['d phi/ dlna']/df_Ben_BG.index)])\n",
    "\n",
    "# fig, axs = plt.subplots(2, height_ratios=[2,1], sharex=True)\n",
    "# axs[0].plot(H_kmou_sol['t'], E_3p55, label='Jordan')\n",
    "# axs[0].plot(df_Ben_BG.index, df_Ben_BG['H_MG'], label='Einstein' )\n",
    "# # axs[0].plot(H_kmou_sol['t'], abs(H_kmou_sol['y'][2]), label=\"Bart's solver\")\n",
    "# axs[0].plot(df_Ben_BG.index, lambdify(a,H_LCDM)(df_Ben_BG.index)/H0_hinvMpc, 'k--', label='$\\Lambda$CDM')\n",
    "\n",
    "# axs[0].legend();\n",
    "# axs[0].set_xscale('log')\n",
    "# axs[0].set_yscale('log')\n",
    "# axs[0].set_ylabel(r'$E \\equiv H/H_0$')\n",
    "\n",
    "# axs[1].plot(H_kmou_sol['t'], E_3p55/lambdify(a,H_LCDM)(H_kmou_sol['t'])*H0_hinvMpc, label='Jordan')\n",
    "# axs[1].plot(df_Ben_BG.index, df_Ben_BG['H_MG']/lambdify(a,H_LCDM)(df_Ben_BG.index)*H0_hinvMpc, '--',label='Einstein' )\n",
    "# # axs[1].plot(H_kmou_sol['t'], abs(H_kmou_sol['y'][2])/lambdify(a,H_LCDM)(H_kmou_sol['t'])*H0_hinvMpc, label=\"Bart's solver\")\n",
    "# axs[1].set_ylim(0.86,1.03)\n",
    "# axs[1].set_xlabel(r'$a$')\n",
    "# axs[1].set_ylabel(r'$E_{\\rm case}/ E_{\\rm \\Lambda CDM}$')\n",
    "# fig.subplots_adjust(hspace=0);"
   ]
  }
 ],
 "metadata": {
  "kernelspec": {
   "display_name": "Python 3 (ipykernel)",
   "language": "python",
   "name": "python3"
  },
  "language_info": {
   "codemirror_mode": {
    "name": "ipython",
    "version": 3
   },
   "file_extension": ".py",
   "mimetype": "text/x-python",
   "name": "python",
   "nbconvert_exporter": "python",
   "pygments_lexer": "ipython3",
   "version": "3.12.0"
  }
 },
 "nbformat": 4,
 "nbformat_minor": 4
}
