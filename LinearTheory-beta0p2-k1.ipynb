{
 "cells": [
  {
   "cell_type": "code",
   "execution_count": null,
   "metadata": {},
   "outputs": [],
   "source": [
    "%matplotlib inline\n",
    "%config InlineBackend.figure_format='retina'\n",
    "# Plotting settings\n",
    "a_min = 1e-3\n",
    "a_max = 1\n",
    "margin = 1.3"
   ]
  },
  {
   "cell_type": "markdown",
   "metadata": {},
   "source": [
    "# Linear predictions"
   ]
  },
  {
   "cell_type": "code",
   "execution_count": null,
   "metadata": {},
   "outputs": [],
   "source": [
    "# from astropy.cosmology import Planck18_arXiv_v2 as cosmo"
   ]
  },
  {
   "cell_type": "code",
   "execution_count": null,
   "metadata": {},
   "outputs": [],
   "source": [
    "import numpy as np\n",
    "from sympy import symbols, sqrt, lambdify, Function, solve, Derivative, init_printing, exp\n",
    "init_printing()\n",
    "from scipy.integrate import odeint, solve_ivp\n",
    "import matplotlib.pyplot as plt\n",
    "import pandas as pd\n",
    "from scipy.interpolate import InterpolatedUnivariateSpline"
   ]
  },
  {
   "cell_type": "code",
   "execution_count": null,
   "metadata": {},
   "outputs": [],
   "source": [
    "plt.style.use('./my_style.py')\n",
    "import matplotlib.ticker as mticker\n",
    "\n",
    "from cycler import cycler\n",
    "import matplotlib.cm     as cm"
   ]
  },
  {
   "cell_type": "code",
   "execution_count": null,
   "metadata": {},
   "outputs": [],
   "source": [
    "#Symbolic variables\n",
    "x, y, mu, k, E_diffa= symbols(r' x, y, \\mu, k, E_a')\n",
    "a= symbols('a', positive=True)\n",
    "D= Function('D')\n",
    "E = Function('E')(a)"
   ]
  },
  {
   "cell_type": "code",
   "execution_count": null,
   "metadata": {},
   "outputs": [],
   "source": [
    "# h =  0.6774\n",
    "Om0 = 0.3089\n",
    "# Om0 = 0.3\n",
    "\n",
    "Ol0 = 1- Om0\n",
    "H0_hinvMpc= 1/2997.92458"
   ]
  },
  {
   "cell_type": "code",
   "execution_count": null,
   "metadata": {},
   "outputs": [],
   "source": [
    "z_ini = 33333\n",
    "z_fin = 0\n",
    "\n",
    "a_ini = 1/(1+z_ini)\n",
    "a_fin = 1/(1+z_fin)\n",
    "\n",
    "z_eval = np.array([ 1.65,1.4,1.2,1])\n",
    "a_eval = 1/(1+z_eval)"
   ]
  },
  {
   "cell_type": "code",
   "execution_count": null,
   "metadata": {},
   "outputs": [],
   "source": [
    "H = H0_hinvMpc*E\n",
    "H_LCDM = H0_hinvMpc*sqrt(Om0*a**(-3) + Ol0)\n",
    "H_LCDM_Or = H0_hinvMpc*sqrt(Om0*a**(-3) + Ol0+ 8*10**(-5)*a**(-4))\n",
    "H_conf = H*a\n",
    "Om = Om0*a**(-3)\n",
    "Ol = Ol0"
   ]
  },
  {
   "cell_type": "markdown",
   "metadata": {},
   "source": [
    "# Ben's data"
   ]
  },
  {
   "cell_type": "markdown",
   "metadata": {},
   "source": [
    "### Background"
   ]
  },
  {
   "cell_type": "code",
   "execution_count": null,
   "metadata": {},
   "outputs": [],
   "source": [
    "header_str = 'a,  H_MG,  H_LCDM, H_MG/H_LCDM,  aH dH/da / H0^2 ,  phi , d phi/ dlna'\n",
    "header = [s.strip(' ')for s in header_str.split(',')]"
   ]
  },
  {
   "cell_type": "code",
   "execution_count": null,
   "metadata": {},
   "outputs": [],
   "source": [
    "df_Ben_BG = pd.DataFrame(np.loadtxt('./Data/Background/background_k01_glam.dat'), columns=header).set_index('a')"
   ]
  },
  {
   "cell_type": "code",
   "execution_count": null,
   "metadata": {},
   "outputs": [],
   "source": [
    "fig, axs = plt.subplots(2,3, figsize=(17,8), sharex=True)\n",
    "df_Ben_BG.plot(ax=axs, subplots=True)\n",
    "\n",
    "for ax in axs.flatten():\n",
    "    ax.set_xscale('log')\n",
    "    if (ax.get_ylim()[1]>10) and (ax.get_ylim()[0]>-1e9):\n",
    "        ax.set_yscale('log')"
   ]
  },
  {
   "cell_type": "code",
   "execution_count": null,
   "metadata": {},
   "outputs": [],
   "source": [
    "a_vals = df_Ben_BG.index\n",
    "\n",
    "phi_kmou = InterpolatedUnivariateSpline(a_vals, df_Ben_BG['phi'])\n",
    "phi_diffa_kmou = phi_kmou.derivative()\n",
    "E_kmou = InterpolatedUnivariateSpline(a_vals, df_Ben_BG['H_MG'])\n",
    "E_diffa_kmou = E_kmou.derivative()\n",
    "phi_prime_kmou = lambda a: a*(a*E_kmou(a)*H0_hinvMpc)*phi_diffa_kmou(a)"
   ]
  },
  {
   "cell_type": "code",
   "execution_count": null,
   "metadata": {},
   "outputs": [],
   "source": [
    "plt.semilogx(df_Ben_BG['d phi/ dlna'])\n",
    "plt.semilogx(a_vals, a_vals*phi_diffa_kmou(a_vals), '--')"
   ]
  },
  {
   "cell_type": "markdown",
   "metadata": {},
   "source": [
    "# Expansion"
   ]
  },
  {
   "cell_type": "code",
   "execution_count": null,
   "metadata": {},
   "outputs": [],
   "source": [
    "E_vals_LCDM = lambdify((a),H_LCDM/H0_hinvMpc)(df_Ben_BG.index)"
   ]
  },
  {
   "cell_type": "code",
   "execution_count": null,
   "metadata": {},
   "outputs": [],
   "source": [
    "plt.semilogx(df_Ben_BG['H_LCDM']/E_vals_LCDM, label='LCDM ratio')\n",
    "plt.semilogx(df_Ben_BG['H_MG']/E_vals_LCDM, label='Kmou over LCDM')\n",
    "plt.ylim(0.95,1.05)\n",
    "plt.hlines(1, 0, 1, colors='k', linestyles='--')\n",
    "plt.legend();"
   ]
  },
  {
   "cell_type": "markdown",
   "metadata": {},
   "source": [
    "# Growth equation"
   ]
  },
  {
   "cell_type": "markdown",
   "metadata": {},
   "source": [
    "#### $\\Lambda$CDM"
   ]
  },
  {
   "cell_type": "markdown",
   "metadata": {},
   "source": [
    "The growth equation in LCDM reads:\n",
    "$$D_{1}'' + \\mathcal{H} D_{1}' - \\frac{3}{2} \\, \\Omega_{m} H_{0}^{2} a^{2} D_{1} = 0.$$\n",
    "It is possible to express the derivatives wrt the conformal time in terms of the scale factor:\n",
    "$$\\frac{d}{d\\tau} = a \\mathcal{H} \\frac{d}{da}$$"
   ]
  },
  {
   "cell_type": "code",
   "execution_count": null,
   "metadata": {},
   "outputs": [],
   "source": [
    "# Set up differential equation\n",
    "diff_eq_LCDM = a*H_conf*(a*H_conf*D(a).diff(a)).diff(a) + a*H_conf**2*D(a).diff(a) \\\n",
    "                -3/2*Om*H0_hinvMpc**2*a**(2)*D(a)\n",
    "\n",
    "diff_eq_LCDM = diff_eq_LCDM.expand().subs(E, H_LCDM/H0_hinvMpc)"
   ]
  },
  {
   "cell_type": "markdown",
   "metadata": {},
   "source": [
    "And then solve the differntial equation numerically:"
   ]
  },
  {
   "cell_type": "code",
   "execution_count": null,
   "metadata": {},
   "outputs": [],
   "source": [
    "# Split 2nd order differential equation in a system of first order differential equations\n",
    "x_sym_eq = diff_eq_LCDM.subs(D(a).diff(a),x).subs(D(a),y)\n",
    "x_eq= lambdify((a,x,y), solve(x_sym_eq, Derivative(x,a))[0])\n",
    "y_eq = lambdify((a,x,y), x)\n",
    "\n",
    "def dum_fun(t,vec):\n",
    "    '''Dummy function to adapt the input of solve_ivp'''\n",
    "    return (x_eq(t,vec[0],vec[1]),y_eq(t,vec[0],vec[1]))\n",
    "\n",
    "# Compute the solution of the differential equation\n",
    "D_LCDM = solve_ivp(dum_fun, t_span=(a_ini,a_fin), y0=(1,a_ini), dense_output=True, rtol=1e-9)"
   ]
  },
  {
   "cell_type": "markdown",
   "metadata": {},
   "source": [
    "#### $k$-mouflage"
   ]
  },
  {
   "cell_type": "markdown",
   "metadata": {},
   "source": [
    "The growth equation for the k-mouflage model in the Einstein frame reads:\n",
    "$$D_{1}^{\\prime \\prime}+\\left[\\frac{a^{\\prime}}{a}+\\frac{\\mathrm{d} \\ln A(\\varphi)}{\\mathrm{d} \\varphi} \\varphi^{\\prime}\\right] D_{1}^{\\prime}-4 \\pi G \\bar{\\rho}_{\\mathrm{m}}(a) a^2 A(\\bar{\\varphi})\\left[1+\\frac{2 \\beta_{\\mathrm{Kmo}}^2}{K_X(\\bar{X})}\\right] D_{1}=0$$\n",
    "where the conformal factor is given by \n",
    "$$A(\\varphi)= \\exp \\left(\\beta_{\\mathrm{Kmo}} \\varphi\\right),$$\n",
    "$$\\frac{\\mathrm{d} \\ln A(\\varphi)}{\\mathrm{d} \\varphi}=\\beta_{\\mathrm{Kmo}}.$$\n",
    "Here we focus on the model:\n",
    "$$K(X)=-1+X+K_0 X^n$$\n",
    "with $n=2$ and $K_0=1$. Furthermore, we fix $\\beta_{\\mathrm{Kmo}}=0.2$. Hence, we have \n",
    "$$A(\\varphi)=\\exp \\left(0.2 \\varphi\\right),$$\n",
    "$$K_X(\\bar{X}) = 1 + 2\\bar{X} = 1 + \\frac{\\bar{\\varphi}^{\\prime 2}}{\\lambda^2 a^2 H_0^2}.$$\n",
    "where $\\lambda=1.476$ is necessary to recover the correct value of $H_0$ today."
   ]
  },
  {
   "cell_type": "code",
   "execution_count": null,
   "metadata": {},
   "outputs": [],
   "source": [
    "# Define kmouflage quantities\n",
    "beta = 0.2\n",
    "phi, phi_prime, X = symbols(r'\\phi, \\phi^{\\prime}, X')\n",
    "A = exp(beta*phi)\n",
    "\n",
    "n=2\n",
    "K0=1\n",
    "lamb= 1.476\n",
    "K = -1 + X + K0*X**n\n",
    "K_x = K.diff(X)\n",
    "X_bar = phi_prime**2/(2*lamb**2 * a**2 * H0_hinvMpc**2)\n",
    "K_x_bar = K_x.subs(X, X_bar)\n",
    "\n",
    "mu_kmou = 1+ 2*beta**2/(K_x_bar)"
   ]
  },
  {
   "cell_type": "code",
   "execution_count": null,
   "metadata": {},
   "outputs": [],
   "source": [
    "# Set up differential equation\n",
    "diff_eq_kmou = a*H_conf*(a*H_conf*D(a).diff(a)).diff(a) + a*H_conf*(H_conf+beta*phi_prime)*D(a).diff(a) \\\n",
    "                -3/2*Om*H0_hinvMpc**2*a**(2)*A*mu_kmou*D(a)\n",
    "\n",
    "diff_eq_kmou = diff_eq_kmou.expand()"
   ]
  },
  {
   "cell_type": "markdown",
   "metadata": {},
   "source": [
    "And then solve the differntial equation numerically:"
   ]
  },
  {
   "cell_type": "code",
   "execution_count": null,
   "metadata": {},
   "outputs": [],
   "source": [
    "# Split 2nd order differential equation in a system of first order differential equations\n",
    "x_sym_eq = diff_eq_kmou.subs(D(a).diff(a),x).subs(D(a),y).subs(E.diff(a),E_diffa)\n",
    "\n",
    "x_eq= lambdify((a,x,y,E,E_diffa,phi,phi_prime), solve(x_sym_eq, Derivative(x,a))[0])\n",
    "y_eq = lambdify((a,x,y), x)"
   ]
  },
  {
   "cell_type": "code",
   "execution_count": null,
   "metadata": {},
   "outputs": [],
   "source": [
    "def dum_fun(t,vec):\n",
    "    '''Dummy function to adapt the input of solve_ivp'''\n",
    "    return (x_eq(t,vec[0],vec[1], E_kmou(t),E_diffa_kmou(t), phi_kmou(t), phi_prime_kmou(t)),\n",
    "            y_eq(t,vec[0],vec[1]))\n",
    "\n",
    "# Compute the solution of the differential equation\n",
    "D_kmou = solve_ivp(dum_fun, t_span=(a_ini,a_fin), y0=(1,a_ini), dense_output=True, rtol=1e-9)"
   ]
  },
  {
   "cell_type": "code",
   "execution_count": null,
   "metadata": {},
   "outputs": [],
   "source": [
    "plt.plot(df_Ben_BG.index, D_LCDM.sol(df_Ben_BG.index)[1])\n",
    "plt.plot(df_Ben_BG.index, D_kmou.sol(df_Ben_BG.index)[1])\n",
    "plt.plot(df_Ben_BG.index, df_Ben_BG.index, 'k--')\n",
    "plt.xlabel(r'$a_{\\rm E}$')\n",
    "plt.ylabel('$D_+$');"
   ]
  },
  {
   "cell_type": "code",
   "execution_count": null,
   "metadata": {},
   "outputs": [],
   "source": [
    "plt.plot(df_Ben_BG.index, D_LCDM.sol(df_Ben_BG.index)[0], label=r'$\\Lambda$CDM')\n",
    "plt.plot(df_Ben_BG.index, D_kmou.sol(df_Ben_BG.index)[0], label=r'$K$-mouflage')\n",
    "plt.xlabel(r'$a_{\\rm E}$')\n",
    "plt.ylabel('$f$');\n",
    "plt.legend();"
   ]
  },
  {
   "cell_type": "markdown",
   "metadata": {},
   "source": [
    "# Frame transformation"
   ]
  },
  {
   "cell_type": "markdown",
   "metadata": {},
   "source": [
    "In the Einstein frame the scalar field is minimally coupled with the gravity and the units of lenght are controlled by the conformal factor $A(\\phi)$ and so they can vary with time. \n",
    "\n",
    "In the Jordan frame the scalar field has non-minimal coupling with gravity but the units are time-independent.\n",
    "\n",
    "(see Francfurt et al 1907.03606)"
   ]
  },
  {
   "cell_type": "markdown",
   "metadata": {},
   "source": [
    "Convention:\n",
    "- no tilde for Einstein frame\n",
    "- tilde for Jordan frame"
   ]
  },
  {
   "cell_type": "markdown",
   "metadata": {},
   "source": [
    "The Hubble paramteter tranforms between the two frames like:\n",
    "$$\\tilde{\\mathcal{H}} = \\mathcal{H}-\\frac{\\dot{\\phi} F^{\\prime}}{2 F}$$\n",
    "where $\\dot{\\phi} = \\frac{d\\phi}{d\\tau}$, $F^{\\prime} = \\frac{d F}{d\\phi}$ and $F=1/A^2$."
   ]
  },
  {
   "cell_type": "markdown",
   "metadata": {},
   "source": [
    "For the Hubble rate this corresponds to:\n",
    "$$\\tilde{H} = \\frac{H}{A} (1 + a \\beta \\frac{d \\phi}{da} )$$\n",
    "\n",
    "<!-- Also the k-mouflage function $k\\equiv (K+1)/X$ transforms as:\n",
    "$$ k=\\frac{3}{16 \\pi G}\\left(\\frac{F^{\\prime}}{F}\\right)^2+\\frac{\\tilde{k}}{F}. $$ -->\n",
    "\n",
    "<!-- or reversing the frames:\n",
    "$$\\tilde{k}= F k -\\frac{3 F}{16 \\pi G}\\left(\\frac{F^{\\prime}}{F}\\right)^2 .$$ -->"
   ]
  },
  {
   "cell_type": "markdown",
   "metadata": {},
   "source": [
    "# Jordan frame"
   ]
  },
  {
   "cell_type": "markdown",
   "metadata": {},
   "source": [
    "#### Background"
   ]
  },
  {
   "cell_type": "code",
   "execution_count": null,
   "metadata": {},
   "outputs": [],
   "source": [
    "beta = 0.2"
   ]
  },
  {
   "cell_type": "code",
   "execution_count": null,
   "metadata": {},
   "outputs": [],
   "source": [
    "A_vals = np.e**(beta* df_Ben_BG['phi'])"
   ]
  },
  {
   "cell_type": "code",
   "execution_count": null,
   "metadata": {},
   "outputs": [],
   "source": [
    "a_E_vals = df_Ben_BG.index.values\n",
    "a_J_vals = a_E_vals*A_vals"
   ]
  },
  {
   "cell_type": "code",
   "execution_count": null,
   "metadata": {},
   "outputs": [],
   "source": [
    "H_J = df_Ben_BG['H_MG']/A_vals * (1 + a_E_vals*beta*phi_diffa_kmou(a_E_vals))"
   ]
  },
  {
   "cell_type": "code",
   "execution_count": null,
   "metadata": {},
   "outputs": [],
   "source": [
    "E_vals_LCDM_J = lambdify((a),H_LCDM/H0_hinvMpc)(a_J_vals)"
   ]
  },
  {
   "cell_type": "markdown",
   "metadata": {},
   "source": [
    "#### Interpolate"
   ]
  },
  {
   "cell_type": "code",
   "execution_count": null,
   "metadata": {},
   "outputs": [],
   "source": [
    "phi_kmou_J = InterpolatedUnivariateSpline(a_J_vals, df_Ben_BG['phi'], ext=3)\n",
    "phi_diffa_kmou_J = phi_kmou_J.derivative()\n",
    "E_kmou_J = InterpolatedUnivariateSpline(a_J_vals, H_J, ext=3)\n",
    "E_diffa_kmou_J = E_kmou_J.derivative()\n",
    "phi_prime_kmou_J = lambda a: a*(a*E_kmou_J(a)*H0_hinvMpc)*phi_diffa_kmou_J(a)"
   ]
  },
  {
   "cell_type": "markdown",
   "metadata": {},
   "source": [
    "#### Hubble Ratio"
   ]
  },
  {
   "cell_type": "code",
   "execution_count": null,
   "metadata": {},
   "outputs": [],
   "source": [
    "# plt.plot(a_E_vals, df_Ben_BG['H_MG']/E_vals_LCDM, label='Kmou-E / LCDM-E')\n",
    "plt.plot(a_E_vals, df_Ben_BG['H_MG']/E_vals_LCDM, 'C1', label='Einstein frame')\n",
    "plt.plot(a_E_vals, H_J/E_vals_LCDM, '--C2', label='Jordan frame')\n",
    "plt.xscale('log')\n",
    "plt.xlim(a_min/margin, a_max*margin)\n",
    "y_min, y_max = plt.ylim()\n",
    "# plt.vlines(A_vals.iloc[-1], y_min, y_max, linestyles=':', colors='k')\n",
    "plt.hlines(1, 0, 1, colors='k', linestyles='--')\n",
    "plt.xlabel(r'$a_{\\rm E}$')\n",
    "plt.ylabel(r'$H_{K{\\rm mou}}/H_{\\Lambda {\\rm CDM}}$')\n",
    "plt.legend();\n",
    "plt.savefig('./figures/n2-beta0p2-k1/HubbleRateRatio.pdf', format='pdf')"
   ]
  },
  {
   "cell_type": "code",
   "execution_count": null,
   "metadata": {},
   "outputs": [],
   "source": [
    "# plt.semilogx(a_E_vals, E_vals_LCDM_J/df_Ben_BG['H_LCDM'], label='LCDM ratio: J / E')\n",
    "plt.semilogx(a_E_vals, df_Ben_BG['H_MG']/E_vals_LCDM, label='Kmou-E / LCDM-E')\n",
    "plt.semilogx(a_E_vals, df_Ben_BG['H_MG']/E_vals_LCDM_J, label='Kmou-E / LCDM-J')\n",
    "# plt.semilogx(a_E_vals, df_Ben_BG['H_MG']/E_vals_LCDM, label='Kmou-E / LCDM-J')\n",
    "plt.semilogx(a_E_vals, H_J/E_vals_LCDM_J, label='Kmou-J / LCDM-J')\n",
    "# plt.semilogx(a_E_vals, (1 + a_E_vals*beta*phi_diffa_kmou(a_E_vals)),'--', label=r'$\\mathcal{H}_{kmou}^J/\\mathcal{H}_{kmou}^E$')\n",
    "# plt.semilogx(a_E_vals, H_j/E_vals_LCDM_J, label='Kmou-Jordan over LCDM')\n",
    "y_min, y_max = plt.ylim()\n",
    "plt.vlines(A_vals.iloc[-1], y_min, y_max, linestyles=':', colors='k')\n",
    "plt.hlines(1, 0, 1, colors='k', linestyles='--')\n",
    "plt.legend();"
   ]
  },
  {
   "cell_type": "markdown",
   "metadata": {},
   "source": [
    "#### $k$-mouflage"
   ]
  },
  {
   "cell_type": "markdown",
   "metadata": {},
   "source": [
    "The growth equation for the k-mouflage model in the Jordan frame reads:\n",
    "$$D_{1}'' + \\mathcal{H} D_{1}' - \\frac{3}{2} \\, A^2 \\Omega_{m} H_{0}^{2} a^{2} \\mu D_{1} = 0,$$\n",
    "where $\\mu = 1+\\epsilon_1$, $\\epsilon_1 = \\frac{2 \\beta^2}{K_x}$ and $\\Omega_{m}$ is the Einstein frame matter density, hence the presence of the $A^2$ factor to take into account the running of the Planck mass in the Jordan frame and how densities transform between the two frames.\n",
    "\n",
    "The conformal factor is given by \n",
    "$$A(\\varphi)= \\exp \\left(\\beta_{\\mathrm{Kmo}} \\varphi\\right),$$\n",
    "$$\\frac{\\mathrm{d} \\ln A(\\varphi)}{\\mathrm{d} \\varphi}=\\beta_{\\mathrm{Kmo}}.$$\n",
    "\n",
    "We use the Einstein frame model:\n",
    "$$K(X)=-1+X+K_0 X^n$$\n",
    "<!-- is translated in the Jordan frame as:\n",
    "$$\\tilde{K}= X \\tilde{k} -1 = X -1 = -1+X+K_0 X^n$$ -->\n",
    "\n",
    "with $n=2$ and $K_0=1$. Furthermore, we fix $\\beta_{\\mathrm{Kmo}}=0.2$. Hence, we have \n",
    "$$A(\\varphi)=\\exp \\left(0.2 \\varphi\\right),$$\n",
    "$$K_X(\\bar{X}) = 1 + 2\\bar{X} = 1 + \\frac{A^2 \\bar{\\varphi}^{\\prime 2}}{\\lambda^2 a^2 H_0^2}.$$\n",
    "where $\\lambda=1.476$ is necessary to recover the correct value of $H_0$ today."
   ]
  },
  {
   "cell_type": "code",
   "execution_count": null,
   "metadata": {},
   "outputs": [],
   "source": [
    "# Define kmouflage quantities\n",
    "beta = 0.2\n",
    "phi, phi_prime, X = symbols(r'\\phi, \\phi^{\\prime}, X')\n",
    "A = exp(beta*phi)\n",
    "\n",
    "n=2\n",
    "K0=1\n",
    "lamb= 1.476\n",
    "K = -1 + X + K0*X**n\n",
    "K_x = K.diff(X)\n",
    "X_bar_J = A**2*phi_prime**2/(2*lamb**2 * a**2 * H0_hinvMpc**2)\n",
    "# X_bar = phi_prime**2/(2*lamb**2 * a**2 * H0_hinvMpc**2)\n",
    "K_x_bar_J = K_x.subs(X, X_bar_J)\n",
    "# K_x_bar = K_x.subs(X, X_bar)\n",
    "\n",
    "mu_kmou_J = 1 + 2*beta**2/(K_x_bar_J)\n",
    "# mu_kmou = 1 + 2*beta**2/(K_x_bar)"
   ]
  },
  {
   "cell_type": "code",
   "execution_count": null,
   "metadata": {},
   "outputs": [],
   "source": [
    "# Set up differential equation\n",
    "# diff_eq_kmou_j = a*H_conf*(a*H_conf*D(a).diff(a)).diff(a) + a*H_conf*(H_conf)*D(a).diff(a) \\\n",
    "#                 -3/2*A**2*Om*(H0_hinvMpc)**2*a**(2)*mu_kmou_J*D(a)\n",
    "\n",
    "diff_eq_kmou_j = a*H_conf*(a*H_conf*D(a).diff(a)).diff(a) + a*H_conf*(H_conf)*D(a).diff(a) \\\n",
    "                -3/2*A**2*Om*(H0_hinvMpc)**2*a**(2)*mu_kmou_J*D(a)\n",
    "\n",
    "# diff_eq_kmou_j = a*(a*D(a).diff(a)).diff(a) + (2+1/H**2*a*H*H.diff(a))*a*D(a).diff(a) \\\n",
    "#                 -3/2*Om*(H0_hinvMpc/H)**2*mu_kmou_J*D(a)\n",
    "\n",
    "diff_eq_kmou_j = diff_eq_kmou_j.expand()"
   ]
  },
  {
   "cell_type": "markdown",
   "metadata": {},
   "source": [
    "And then solve the differntial equation numerically:"
   ]
  },
  {
   "cell_type": "code",
   "execution_count": null,
   "metadata": {},
   "outputs": [],
   "source": [
    "# Split 2nd order differential equation in a system of first order differential equations\n",
    "x_sym_eq = diff_eq_kmou_j.subs(D(a).diff(a),x).subs(D(a),y).subs(E.diff(a),E_diffa)\n",
    "\n",
    "x_eq= lambdify((a,x,y,E,E_diffa,phi,phi_prime), solve(x_sym_eq, Derivative(x,a))[0])\n",
    "y_eq = lambdify((a,x,y), x)"
   ]
  },
  {
   "cell_type": "code",
   "execution_count": null,
   "metadata": {},
   "outputs": [],
   "source": [
    "def dum_fun(t,vec):\n",
    "    '''Dummy function to adapt the input of solve_ivp'''\n",
    "    return (x_eq(t,vec[0],vec[1], E_kmou_J(t),E_diffa_kmou_J(t), phi_kmou_J(t), phi_prime_kmou_J(t)),\n",
    "            y_eq(t,vec[0],vec[1]))\n",
    "\n",
    "# Compute the solution of the differential equation\n",
    "D_kmou_J = solve_ivp(dum_fun, t_span=(a_ini,a_fin), y0=(1,a_ini), dense_output=True, rtol=1e-9)"
   ]
  },
  {
   "cell_type": "code",
   "execution_count": null,
   "metadata": {},
   "outputs": [],
   "source": [
    "plt.semilogx(a_E_vals, lambdify([a, phi, phi_prime], mu_kmou_J)(a_J_vals,\n",
    "                                                              phi_kmou_J(a_J_vals),\n",
    "                                                              phi_prime_kmou_J(a_J_vals)), \n",
    "             label=r'coupling, $\\mu$')\n",
    "\n",
    "plt.semilogx(a_E_vals, lambdify([phi], A)(phi_kmou(a_E_vals)), label=r'conformal factor, $A$')\n",
    "\n",
    "plt.xlabel(r'$a_{\\rm E}$')\n",
    "\n",
    "plt.legend()\n",
    "plt.xlim(a_min/margin, a_max*margin)\n",
    "plt.savefig('./figures/n2-beta0p2-k1/MG-effects.pdf', format='pdf')"
   ]
  },
  {
   "cell_type": "code",
   "execution_count": null,
   "metadata": {},
   "outputs": [],
   "source": [
    "plt.figure(figsize=(6,4))\n",
    "plt.plot(a_E_vals, D_LCDM.sol(a_E_vals)[1], label=r'$\\Lambda$CDM')\n",
    "plt.plot(a_E_vals, D_kmou.sol(df_Ben_BG.index)[1], label='$K$-mou Einstein')\n",
    "plt.plot(a_E_vals, D_kmou_J.sol(a_J_vals)[1], '--',label='$K$-mou Jordan')\n",
    "plt.plot(a_E_vals , a_E_vals, 'k--', label='D=a')\n",
    "plt.xlabel(r'$a_{\\rm E}$')\n",
    "plt.ylabel('$D_+$');\n",
    "plt.legend();\n",
    "plt.savefig('./figures/n2-beta0p2-k1/Growth_comp.pdf', format='pdf')"
   ]
  },
  {
   "cell_type": "code",
   "execution_count": null,
   "metadata": {},
   "outputs": [],
   "source": [
    "plt.figure(figsize=(6,4))\n",
    "plt.plot(a_J_vals, D_LCDM.sol(a_J_vals)[1], label='LCDM')\n",
    "plt.plot(a_J_vals, D_kmou.sol(df_Ben_BG.index)[1], label='kmou-E')\n",
    "plt.plot(a_J_vals, D_kmou_J.sol(a_J_vals)[1], '--',label='kmou-J')\n",
    "plt.plot(a_J_vals , a_J_vals, 'k--', label='D=a')\n",
    "plt.xlabel(r'$a_{\\rm Jord}$')\n",
    "plt.ylabel('$D_+$');\n",
    "plt.legend();\n",
    "plt.savefig('./figures/n2-beta0p2-k1/Growth_comp_Jordan.pdf', format='pdf')"
   ]
  },
  {
   "cell_type": "code",
   "execution_count": null,
   "metadata": {},
   "outputs": [],
   "source": [
    "plt.figure(figsize=(6,4))\n",
    "plt.hlines(1, 0, 1, colors='k', linestyles='--')\n",
    "plt.semilogx(a_E_vals, D_kmou.sol(df_Ben_BG.index)[1]/D_LCDM.sol(a_E_vals)[1], 'C1',label=r'Einstein frame')\n",
    "plt.semilogx(a_E_vals, D_kmou_J.sol(a_J_vals)[1]/D_LCDM.sol(a_E_vals)[1], '--C2',label=r'Jordan frame' )\n",
    "plt.xlabel(r'$a_{\\rm E}$')\n",
    "plt.ylabel(r'$D_{K \\rm mou}/D_{\\rm \\Lambda CDM}$');\n",
    "plt.legend();\n",
    "plt.xlim(a_min/margin, a_max*margin)\n",
    "plt.savefig('./figures/n2-beta0p2-k1/Growth_ratios.pdf', format='pdf')"
   ]
  },
  {
   "cell_type": "markdown",
   "metadata": {},
   "source": [
    "### Estimate differences in the power spectrum between frames"
   ]
  },
  {
   "cell_type": "code",
   "execution_count": null,
   "metadata": {},
   "outputs": [],
   "source": [
    "# Check if power spectrum changes between frames depending on scale \n",
    "scale_of_interest = 1e-2 # in h/Mpc\n",
    "delta_phi_over_delta = A*beta*a**2*H0_hinvMpc**2*Om/(K_x_bar)/(scale_of_interest)**2\n",
    "np.max(lambdify([a, phi, phi_prime], delta_phi_over_delta)(a_E_vals, phi_kmou(a_E_vals),\n",
    "                                                                        phi_prime_kmou(a_E_vals)))"
   ]
  },
  {
   "cell_type": "markdown",
   "metadata": {},
   "source": [
    "# Output"
   ]
  },
  {
   "cell_type": "code",
   "execution_count": null,
   "metadata": {},
   "outputs": [],
   "source": [
    "out_table = np.array([a_E_vals, a_J_vals, E_kmou_J(a_J_vals), E_diffa_kmou_J(a_J_vals), \n",
    "                      phi_kmou_J(a_J_vals), phi_prime_kmou_J(a_J_vals),\n",
    "                      lambdify([a, phi, phi_prime], mu_kmou_J)(a_J_vals, phi_kmou_J(a_J_vals),\n",
    "                                                                        phi_prime_kmou_J(a_J_vals)),\n",
    "                     A_vals, D_kmou_J.sol(a_J_vals)[1]]).T\n",
    "\n",
    "header = 'a_E, a_J, E_J, dE_J/da, phi_J, dphi_J/da, G_eff/G, A_conf, D_kmou'\n",
    "header =''.join([i.ljust(16) for i in header.split(', ')])\n",
    "\n",
    "np.savetxt('./Data/Output/n2-beta0p2-k1/out_table.txt', out_table, header=header, fmt='%.6e', delimiter='\\t')"
   ]
  }
 ],
 "metadata": {
  "kernelspec": {
   "display_name": "Python 3 (ipykernel)",
   "language": "python",
   "name": "python3"
  },
  "language_info": {
   "codemirror_mode": {
    "name": "ipython",
    "version": 3
   },
   "file_extension": ".py",
   "mimetype": "text/x-python",
   "name": "python",
   "nbconvert_exporter": "python",
   "pygments_lexer": "ipython3",
   "version": "3.10.8"
  }
 },
 "nbformat": 4,
 "nbformat_minor": 4
}
