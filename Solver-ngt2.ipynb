{
 "cells": [
  {
   "cell_type": "code",
   "execution_count": null,
   "metadata": {},
   "outputs": [],
   "source": [
    "%matplotlib inline\n",
    "%config InlineBackend.figure_format='retina'\n",
    "# Plotting settings\n",
    "a_min = 1e-3\n",
    "a_max = 1\n",
    "margin = 1.3"
   ]
  },
  {
   "cell_type": "markdown",
   "metadata": {},
   "source": [
    "# Linear predictions"
   ]
  },
  {
   "cell_type": "code",
   "execution_count": null,
   "metadata": {},
   "outputs": [],
   "source": [
    "# from astropy.cosmology import Planck18_arXiv_v2 as cosmo"
   ]
  },
  {
   "cell_type": "code",
   "execution_count": null,
   "metadata": {},
   "outputs": [],
   "source": [
    "import sympy as sym\n",
    "\n",
    "import numpy as np\n",
    "from sympy import symbols, sqrt, lambdify, Function, solve, Derivative, init_printing, exp, pi, sympify, nsimplify, Float, N\n",
    "init_printing()\n",
    "from scipy.integrate import odeint, solve_ivp\n",
    "import matplotlib.pyplot as plt\n",
    "import pandas as pd\n",
    "from scipy.interpolate import InterpolatedUnivariateSpline"
   ]
  },
  {
   "cell_type": "code",
   "execution_count": null,
   "metadata": {},
   "outputs": [],
   "source": [
    "plt.style.use('./my_style.py')\n",
    "import matplotlib.ticker as mticker\n",
    "\n",
    "from cycler import cycler\n",
    "import matplotlib.cm     as cm"
   ]
  },
  {
   "cell_type": "code",
   "execution_count": null,
   "metadata": {},
   "outputs": [],
   "source": [
    "#Symbolic variables\n",
    "x, y, mu, k, E_diffa= symbols(r' x, y, \\mu, k, E_a')\n",
    "a= symbols('a', positive=True)\n",
    "D= Function('D')\n",
    "E = Function('E')(a)"
   ]
  },
  {
   "cell_type": "code",
   "execution_count": null,
   "metadata": {},
   "outputs": [],
   "source": [
    "Om0  = symbols('O_m0')"
   ]
  },
  {
   "cell_type": "code",
   "execution_count": null,
   "metadata": {},
   "outputs": [],
   "source": [
    "# h =  0.6774\n",
    "Om0_val = nsimplify(0.3089)\n",
    "# Om0 = 0.3\n",
    "\n",
    "Ol0 = 1- Om0_val\n",
    "H0_hinvMpc= 1#1/2997.92458"
   ]
  },
  {
   "cell_type": "code",
   "execution_count": null,
   "metadata": {},
   "outputs": [],
   "source": [
    "z_ini = 999\n",
    "z_fin = 0\n",
    "\n",
    "a_ini = 1/(1+z_ini)\n",
    "a_fin = 1/(1+z_fin)\n",
    "\n",
    "z_eval = np.array([ 1.65,1.4,1.2,1])\n",
    "a_eval = 1/(1+z_eval)"
   ]
  },
  {
   "cell_type": "code",
   "execution_count": null,
   "metadata": {},
   "outputs": [],
   "source": [
    "H = H0_hinvMpc*E\n",
    "H_LCDM = H0_hinvMpc*(Om0_val*a**(-3) + Ol0)**(1/2)\n",
    "H_LCDM_Or = H0_hinvMpc*sqrt(Om0_val*a**(-3) + Ol0+ 8*10**(-5)*a**(-4))\n",
    "H_conf = H*a\n",
    "Om = Om0_val*a**(-3)\n",
    "Ol = Ol0"
   ]
  },
  {
   "cell_type": "markdown",
   "metadata": {},
   "source": [
    "# Ben's data"
   ]
  },
  {
   "cell_type": "markdown",
   "metadata": {},
   "source": [
    "### Background"
   ]
  },
  {
   "cell_type": "code",
   "execution_count": null,
   "metadata": {},
   "outputs": [],
   "source": [
    "header_str = 'a,  H_MG,  H_LCDM, H_MG/H_LCDM,  aH dH/da / H0^2 ,  phi , d phi/ dlna'\n",
    "header = [s.strip(' ')for s in header_str.split(',')]\n",
    "\n",
    "df_Ben_BG = pd.DataFrame(np.loadtxt('./Data/Background/background_k01_glam.dat'), columns=header).set_index('a')"
   ]
  },
  {
   "cell_type": "code",
   "execution_count": null,
   "metadata": {},
   "outputs": [],
   "source": [
    "fig, axs = plt.subplots(2,3, figsize=(17,8), sharex=True)\n",
    "df_Ben_BG.plot(ax=axs, subplots=True)\n",
    "\n",
    "for ax in axs.flatten():\n",
    "    ax.set_xscale('log')\n",
    "    if (ax.get_ylim()[1]>10) and (ax.get_ylim()[0]>-1e9):\n",
    "        ax.set_yscale('log')"
   ]
  },
  {
   "cell_type": "code",
   "execution_count": null,
   "metadata": {},
   "outputs": [],
   "source": [
    "plt.semilogx(abs(df_Ben_BG['d phi/ dlna']/df_Ben_BG.index))"
   ]
  },
  {
   "cell_type": "code",
   "execution_count": null,
   "metadata": {},
   "outputs": [],
   "source": [
    "plt.semilogx(-(df_Ben_BG['phi']/df_Ben_BG.index))"
   ]
  },
  {
   "cell_type": "code",
   "execution_count": null,
   "metadata": {},
   "outputs": [],
   "source": [
    "plt.semilogx(df_Ben_BG['d phi/ dlna'])\n",
    "plt.semilogx(a_vals, a_vals*phi_diffa_kmou(a_vals), '--')"
   ]
  },
  {
   "cell_type": "markdown",
   "metadata": {},
   "source": [
    "# Expansion"
   ]
  },
  {
   "cell_type": "code",
   "execution_count": null,
   "metadata": {},
   "outputs": [],
   "source": [
    "E_vals_LCDM = lambdify((a),H_LCDM/H0_hinvMpc)(df_Ben_BG.index)"
   ]
  },
  {
   "cell_type": "code",
   "execution_count": null,
   "metadata": {},
   "outputs": [],
   "source": [
    "plt.semilogx(df_Ben_BG['H_LCDM']/E_vals_LCDM, label='LCDM ratio')\n",
    "plt.semilogx(df_Ben_BG['H_MG']/E_vals_LCDM, label='Kmou over LCDM')\n",
    "plt.ylim(0.95,1.05)\n",
    "plt.hlines(1, 0, 1, colors='k', linestyles='--')\n",
    "plt.legend();"
   ]
  },
  {
   "cell_type": "markdown",
   "metadata": {},
   "source": [
    "# Background"
   ]
  },
  {
   "cell_type": "markdown",
   "metadata": {},
   "source": [
    "#### $k$-mouflage"
   ]
  },
  {
   "cell_type": "markdown",
   "metadata": {},
   "source": [
    "The growth equation for the k-mouflage model in the Einstein frame reads:\n",
    "$$D_{1}^{\\prime \\prime}+\\left[\\frac{a^{\\prime}}{a}+\\frac{\\mathrm{d} \\ln A(\\varphi)}{\\mathrm{d} \\varphi} \\varphi^{\\prime}\\right] D_{1}^{\\prime}-4 \\pi G \\bar{\\rho}_{\\mathrm{m}}(a) a^2 A(\\bar{\\varphi})\\left[1+\\frac{2 \\beta_{\\mathrm{Kmo}}^2}{K_X(\\bar{X})}\\right] D_{1}=0$$\n",
    "where the conformal factor is given by \n",
    "$$A(\\varphi)= \\exp \\left(\\beta_{\\mathrm{Kmo}} \\varphi\\right),$$\n",
    "$$\\frac{\\mathrm{d} \\ln A(\\varphi)}{\\mathrm{d} \\varphi}=\\beta_{\\mathrm{Kmo}}.$$\n",
    "Here we focus on the model:\n",
    "$$K(X)=-1+X+K_0 X^n$$\n",
    "with $n=2$ and $K_0=1$. Furthermore, we fix $\\beta_{\\mathrm{Kmo}}=0.2$. Hence, we have \n",
    "$$A(\\varphi)=\\exp \\left(0.2 \\varphi\\right),$$\n",
    "$$K_X(\\bar{X}) = 1 + 2\\bar{X} = 1 + \\frac{\\bar{\\varphi}^{\\prime 2}}{\\lambda^2 a^2 H_0^2}.$$\n",
    "where $\\lambda=1.476$ is necessary to recover the correct value of $H_0$ today."
   ]
  },
  {
   "cell_type": "code",
   "execution_count": null,
   "metadata": {},
   "outputs": [],
   "source": [
    "symbols(r'\\phi, \\phi^{\\prime}, \\phi^{\\prime\\prime}, X')"
   ]
  },
  {
   "cell_type": "code",
   "execution_count": null,
   "metadata": {},
   "outputs": [],
   "source": [
    "# Define kmouflage quantities\n",
    "beta = 0.2\n",
    "phi_p, phi_pp, X, rho_m, G = symbols(r'\\phi^{\\prime}, \\phi^{\\prime\\prime}, X, \\rho_m, G')\n",
    "phi = Function(r'\\phi')(a)\n",
    "phi_d, phi_dd = symbols(r'\\dot{\\phi}, \\ddot{\\phi}')\n",
    "A = exp(beta*phi)\n",
    "rho_m = Om*3*H0_hinvMpc**2/(8*pi*G) # convert rho_m into Om\n",
    "phi_d = phi_p/a\n",
    "phi_dd = phi_pp/a**2 - phi_p/a**2*H_conf\n",
    "phi_p_ofa = a*H_conf*phi.diff(a)\n",
    "phi_pp_ofa = a*H_conf*(phi_p_ofa).diff(a)\n",
    "\n",
    "n=2\n",
    "K0=1\n",
    "lamb= symbols(r'\\lambda')\n",
    "K = (-1 + X + K0*X**n)\n",
    "K_x = K.diff(X)\n",
    "K_xx = K_x.diff(X)\n",
    "X_bar = phi_p**2/(2*lamb**2 * a**2 * H0_hinvMpc**2)\n",
    "K_x_bar = K_x.subs(X, X_bar)\n",
    "K_xx_bar = K_xx.subs(X, X_bar)\n",
    "\n",
    "# mu_kmou = 1+ 2*beta**2/(K_x_bar)"
   ]
  },
  {
   "cell_type": "markdown",
   "metadata": {},
   "source": [
    "We use that:\n",
    "- $\\rho_m = 3 \\Omega_m H_0^2 /(8 \\pi G)$\n",
    "- $\\frac{d}{dt} = \\frac{d}{a d\\tau}$\n",
    "- $\\dot{\\phi} = \\phi^{\\prime}/a$\n",
    "- $\\ddot{\\phi} = \\frac{d}{dt}(\\phi^{\\prime}/a) = \\frac{1}{a^2}\\phi^{\\prime\\prime} - \\frac{1}{a^2} \\phi^{\\prime} \\mathcal{H}$\n",
    "\n",
    "and as above:\n",
    "$$\\frac{d}{d\\tau} = a \\mathcal{H} \\frac{d}{da}$$"
   ]
  },
  {
   "cell_type": "markdown",
   "metadata": {},
   "source": [
    "# Test solver\n",
    "\n",
    "We first construct a solver that uses 3 variables:\n",
    "- $\\phi$\n",
    "- $\\phi_a \\equiv \\frac{d \\phi}{d a}$\n",
    "- $E_a \\equiv \\frac{d E}{d a}$\n",
    "\n",
    "We compare its solutions to Ben's."
   ]
  },
  {
   "cell_type": "code",
   "execution_count": null,
   "metadata": {},
   "outputs": [],
   "source": [
    "# test increasing precision\n",
    "import mpmath as mp\n",
    "mp.dps = 15\n",
    "mp.prec = 53"
   ]
  },
  {
   "cell_type": "code",
   "execution_count": null,
   "metadata": {},
   "outputs": [],
   "source": [
    "# lamb =1.476\n",
    "lamb_val = nsimplify(5)\n",
    "lamb =symbols(r'\\lambda')\n",
    "beta=0.2 \n",
    "n=3 \n",
    "K0=1\n",
    "H0_target=1\n",
    "a_ini=3e-4\n",
    "a_fin=2"
   ]
  },
  {
   "cell_type": "code",
   "execution_count": null,
   "metadata": {},
   "outputs": [],
   "source": [
    "phi_p, phi_pp, X, rho_m, G = symbols(r'\\phi^{\\prime}, \\phi^{\\prime\\prime}, X, \\rho_m, G')\n",
    "phi = Function(r'\\phi')(a)\n",
    "phi_d, phi_dd = symbols(r'\\dot{\\phi}, \\ddot{\\phi}')\n",
    "# symbols for system of diff eq\n",
    "phi_a = symbols(r'\\phi_a')\n",
    "\n",
    "phi_p = a*H_conf*phi.diff(a)\n",
    "phi_pp = a*H_conf*(phi_p).diff(a)\n",
    "\n",
    "A = exp(beta*phi)\n",
    "rho_m = (Om*H0_hinvMpc**2/(8*pi*G/3))#.evalf(30) # convert rho_m into Om\n",
    "phi_d = phi_p/a\n",
    "phi_dd = phi_pp/a**2 - phi_p/a**2*H_conf\n",
    "\n",
    "K = (-1 + X + K0*X**n)\n",
    "K_x = K.diff(X)\n",
    "K_xx = K_x.diff(X)\n",
    "X_bar = phi_p**2/(2*lamb**2 * a**2 * H0_hinvMpc**2)\n",
    "K_x_bar = K_x.subs(X, X_bar)\n",
    "K_xx_bar = K_xx.subs(X, X_bar)\n",
    "\n",
    "kmou_back = ((K_x + 2*X*K_xx)*phi_dd + 3*H*K_x*phi_d + A.diff(phi)*8*pi*G * rho_m).evalf(n=30, subs={Om0:Om0_val})\n",
    "H_kmou_sq = rho_m/3*8*pi*G*A+(K_x*phi_d**2/3 - lamb**2*K*H0_hinvMpc**2/3) -H**2\n",
    "# E_kmou = solve(H_kmou_sq.subs(X, X_bar), E)[1]#.subs(phi.diff(a),phi_a)\n",
    "E_kmou = solve(H_kmou_sq.subs(X, X_bar), E)[1]#/N(sqrt(2)))*sqrt(2)"
   ]
  },
  {
   "cell_type": "code",
   "execution_count": null,
   "metadata": {},
   "outputs": [],
   "source": [
    "# ---------------------------- READ ----------------------------\n",
    "# The chosen equation to compute the derivative E' has an effect on the solution\n",
    "E_kmou_a_eq = (((-4*pi*G*A*rho_m - K_x*phi_d**2/2 - lamb**2*H0_hinvMpc**2*K)/3-H**2)/H_conf/H0_hinvMpc).evalf(n=30, subs={Om0:Om0_val})\n",
    "# E_kmou_a_eq = E_kmou.diff(a)#\n",
    "# E_kmou_a_eq = E_kmou_a_eq.subs(E, E_kmou)\n",
    "# H_LCDM = H0_hinvMpc*sqrt(Om+Ol)\n",
    "# E_kmou_a_eq = (H_LCDM/H0_hinvMpc).diff(a)"
   ]
  },
  {
   "cell_type": "code",
   "execution_count": null,
   "metadata": {},
   "outputs": [],
   "source": [
    "# kmou_back = kmou_back.subs(X, X_bar)\n",
    "# E_kmou_a_eq = E_kmou_a_eq.subs(X, X_bar).expand()\n",
    "\n",
    "dphia_o_da_sym_eq = solve(kmou_back.subs(phi.diff(a),phi_a),Derivative(phi_a,a))[0]\n",
    "# ---------------------------- READ ----------------------------\n",
    "# Substuting E_kmou inside dphia_o_da_sym_eq produces a different results than using the integrated E\n",
    "# dphia_o_da_sym_eq = dphia_o_da_sym_eq.subs(E.diff(a), E_kmou_a_eq).subs(X, X_bar).subs(E, E_kmou).subs(phi.diff(a),phi_a)\n",
    "dphia_o_da_sym_eq = dphia_o_da_sym_eq.subs(E.diff(a), E_kmou_a_eq).subs(X, X_bar).subs(phi.diff(a),phi_a)"
   ]
  },
  {
   "cell_type": "code",
   "execution_count": null,
   "metadata": {},
   "outputs": [],
   "source": [
    "# dphia_o_da_sym_eq = solve(kmou_back.subs(E.diff(a),E_kmou_a_eq).subs(phi.diff(a),phi_a), Derivative(phi_a,a))[0]\n",
    "dH_o_da_sym_eq = E_kmou_a_eq.subs(X, X_bar).subs(phi.diff(a),phi_a)"
   ]
  },
  {
   "cell_type": "code",
   "execution_count": null,
   "metadata": {},
   "outputs": [],
   "source": [
    "dphi_o_da_eq = lambdify((a, phi, phi_a, E), phi_a)\n",
    "dphia_o_da_eq = lambdify((a, phi, phi_a, E), dphia_o_da_sym_eq.evalf(30, subs={lamb:lamb_val}),\n",
    "                        modules='mpmath')\n",
    "dE_o_da_eq = lambdify((a, phi, phi_a, E), dH_o_da_sym_eq.evalf(30, subs={lamb:lamb_val}),\n",
    "                     modules='mpmath')\n",
    "\n",
    "\n",
    "def dum_fun(t,vec):\n",
    "    '''Dummy function to adapt the input of solve_ivp'''\n",
    "    return (dphi_o_da_eq(t,vec[0],vec[1], vec[2]),\n",
    "            dphia_o_da_eq(t,vec[0],vec[1], vec[2]),\n",
    "           dE_o_da_eq(t,vec[0],vec[1], vec[2]))\n",
    "\n",
    "# Compute the solution of the differential equation\n",
    "H_kmou_sol = solve_ivp(dum_fun, t_span=(a_ini,a_fin), y0=(-0.1*a_ini, -1, H_LCDM.subs(a,a_ini)/H0_hinvMpc),\n",
    "                       dense_output=True, rtol=1e-9,\n",
    "                       method='LSODA',\n",
    "                       atol=1e-9\n",
    "                      )"
   ]
  },
  {
   "cell_type": "code",
   "execution_count": null,
   "metadata": {},
   "outputs": [],
   "source": [
    "E_kmou = solve(H_kmou_sq.subs(X, X_bar), E)[4]"
   ]
  },
  {
   "cell_type": "code",
   "execution_count": null,
   "metadata": {},
   "outputs": [],
   "source": [
    "E_kmou_sq_fun = lambdify((a, phi, phi_a, E), nsimplify(H_kmou_sq+H**2).subs(X,X_bar).subs(lamb,lamb_val).subs(Derivative(phi, a), phi_a)/H0_hinvMpc**2)\n",
    "E_kmou_fun = lambdify((a, phi, phi_a), nsimplify(E_kmou).subs(lamb,lamb_val).subs(Derivative(phi, a), phi_a))\n",
    "E_kmou_a_fun = lambdify((a, phi, phi_a), nsimplify(E_kmou_a_eq).subs(lamb,lamb_val).subs(Derivative(phi, a), phi_a))"
   ]
  },
  {
   "cell_type": "code",
   "execution_count": null,
   "metadata": {},
   "outputs": [],
   "source": [
    "a_vals = np.linspace(1e-4, 1, 100)\n",
    "phi_vals = np.logspace(-20, 1, 100)"
   ]
  },
  {
   "cell_type": "code",
   "execution_count": null,
   "metadata": {},
   "outputs": [],
   "source": [
    "E_3p55_sq = np.array([E_kmou_sq_fun(t,f,f_p, E)**(1/2)\n",
    "                   for t,f,f_p, E in zip(H_kmou_sol['t'], *H_kmou_sol['y'])]) \n"
   ]
  },
  {
   "cell_type": "code",
   "execution_count": null,
   "metadata": {},
   "outputs": [],
   "source": [
    "E_3p55 = np.array([E_kmou_fun(t,f,f_p) \n",
    "                   for t,f,f_p in zip(H_kmou_sol['t'], H_kmou_sol['y'][0], H_kmou_sol['y'][1])])\n",
    "\n",
    "E_3p55_Ben = np.array([E_kmou_fun(t,f,f_p) for \n",
    "                   t,f,f_p in zip(df_Ben_BG.index, df_Ben_BG['phi'], df_Ben_BG['d phi/ dlna']/df_Ben_BG.index)])"
   ]
  },
  {
   "cell_type": "code",
   "execution_count": null,
   "metadata": {},
   "outputs": [],
   "source": [
    "fig, axs = plt.subplots(2, height_ratios=[2,1], sharex=True)\n",
    "axs[0].plot(H_kmou_sol['t'], E_3p55_sq, label='Bart Eq 3.55')\n",
    "axs[0].plot(df_Ben_BG.index, df_Ben_BG['H_MG'], '--', label='Ben Eq 3.55' )\n",
    "axs[0].plot(H_kmou_sol['t'], abs(H_kmou_sol['y'][2]), '--',label=\"Bart's solver\")\n",
    "axs[0].plot(df_Ben_BG.index, lambdify(a,H_LCDM)(df_Ben_BG.index)/H0_hinvMpc, 'k:', label='$\\Lambda$CDM')\n",
    "\n",
    "axs[0].legend();\n",
    "axs[0].set_xscale('log')\n",
    "axs[0].set_yscale('log')\n",
    "axs[0].set_ylabel(r'$E \\equiv H/H_0$')\n",
    "\n",
    "axs[1].plot(H_kmou_sol['t'], E_3p55/lambdify(a,H_LCDM)(H_kmou_sol['t'])*H0_hinvMpc, label='Bart Eq 3.55')\n",
    "axs[1].plot(df_Ben_BG.index, df_Ben_BG['H_MG']/lambdify(a,H_LCDM)(df_Ben_BG.index)*H0_hinvMpc, label='Ben Eq 3.55' )\n",
    "axs[1].plot(H_kmou_sol['t'], abs(H_kmou_sol['y'][2])/lambdify(a,H_LCDM)(H_kmou_sol['t'])*H0_hinvMpc, label=\"Bart's solver\")\n",
    "axs[1].set_ylim(0.8,1.1)\n",
    "axs[1].set_xlabel(r'$a$')\n",
    "axs[1].set_ylabel(r'$E_{\\rm case}/ E_{\\rm \\Lambda CDM}$')\n",
    "fig.subplots_adjust(hspace=0);"
   ]
  },
  {
   "cell_type": "code",
   "execution_count": null,
   "metadata": {},
   "outputs": [],
   "source": [
    "fig, axs = plt.subplots(2, height_ratios=[2,1], sharex=True)\n",
    "axs[0].plot(H_kmou_sol['t'], abs(H_kmou_sol['y'][0]), label='Bart phi')\n",
    "axs[0].plot(df_Ben_BG.index, abs(df_Ben_BG['phi']), '--',label='Ben phi' )\n",
    "axs[0].plot(H_kmou_sol['t'], abs(H_kmou_sol['y'][1]), label='Bart dphi/da')\n",
    "axs[0].plot(df_Ben_BG.index, abs(df_Ben_BG['d phi/ dlna']/df_Ben_BG.index), '--',label='Ben dphi/da' )\n",
    "# axs[0].plot(H_kmou_sol['t'], abs(H_kmou_sol['y'][2]), label=\"Bart's solver\")\n",
    "\n",
    "axs[0].legend();\n",
    "axs[0].set_xscale('log')\n",
    "axs[0].set_yscale('log')\n",
    "axs[0].set_ylim(a_ini,1000)\n",
    "# axs[0].set_ylabel(r'$E \\equiv H/H_0$')\n",
    "\n",
    "axs[1].plot((df_Ben_BG['d phi/ dlna'])/H_kmou_sol.sol(df_Ben_BG.index)[1]/df_Ben_BG.index, 'C2')\n",
    "axs[1].plot((df_Ben_BG['phi'])/H_kmou_sol.sol(df_Ben_BG.index)[0], '--C0' )\n",
    "# axs[1].plot(H_kmou_sol['t'], abs(H_kmou_sol['y'][2])/lambdify(a,H_LCDM)(H_kmou_sol['t'])*H0_hinvMpc, label=\"Bart's solver\")\n",
    "axs[1].set_ylim(0.95,1.05)\n",
    "axs[1].set_xlabel(r'$a$')\n",
    "axs[1].set_ylabel(r'Bart/Ben')\n",
    "fig.subplots_adjust(hspace=0);"
   ]
  },
  {
   "cell_type": "code",
   "execution_count": null,
   "metadata": {},
   "outputs": [],
   "source": [
    "# plt.loglog(H_kmou_sol['t'], abs(H_kmou_sol['y'][2]))\n",
    "plt.semilogx(abs(df_Ben_BG['H_MG'])/H_kmou_sol.sol(df_Ben_BG.index)[2])\n",
    "plt.semilogx((df_Ben_BG['phi'])/H_kmou_sol.sol(df_Ben_BG.index)[0])\n",
    "plt.semilogx((df_Ben_BG['d phi/ dlna'])/H_kmou_sol.sol(df_Ben_BG.index)[1]/df_Ben_BG.index)\n",
    "plt.ylim(0.9,1.1)"
   ]
  },
  {
   "cell_type": "markdown",
   "metadata": {
    "jp-MarkdownHeadingCollapsed": true
   },
   "source": [
    "# Export solver"
   ]
  },
  {
   "cell_type": "code",
   "execution_count": null,
   "metadata": {},
   "outputs": [],
   "source": [
    "# lamb =1.476\n",
    "lamb_val = nsimplify(5)\n",
    "lamb =symbols(r'\\lambda')\n",
    "beta=0.2 \n",
    "n=3 \n",
    "K0=1\n",
    "H0_target=1\n",
    "a_ini=3e-4\n",
    "a_fin=2\n",
    "\n",
    "phi_p, phi_pp, X, rho_m, G = symbols(r'\\phi^{\\prime}, \\phi^{\\prime\\prime}, X, \\rho_m, G')\n",
    "phi = Function(r'\\phi')(a)\n",
    "phi_d, phi_dd = symbols(r'\\dot{\\phi}, \\ddot{\\phi}')\n",
    "# symbols for system of diff eq\n",
    "phi_a = symbols(r'\\phi_a')\n",
    "\n",
    "phi_p = a*H_conf*phi.diff(a)\n",
    "phi_pp = a*H_conf*(phi_p).diff(a)\n",
    "\n",
    "A = exp(beta*phi)\n",
    "rho_m = (Om*H0_hinvMpc**2/(8*pi*G/3))#.evalf(30) # convert rho_m into Om\n",
    "phi_d = phi_p/a\n",
    "phi_dd = phi_pp/a**2 - phi_p/a**2*H_conf\n",
    "\n",
    "K = (-1 + X + K0*X**n)\n",
    "K_x = K.diff(X)\n",
    "K_xx = K_x.diff(X)\n",
    "X_bar = phi_p**2/(2*lamb**2 * a**2 * H0_hinvMpc**2)\n",
    "K_x_bar = K_x.subs(X, X_bar)\n",
    "K_xx_bar = K_xx.subs(X, X_bar)\n",
    "\n",
    "kmou_back = ((K_x + 2*X*K_xx)*phi_dd + 3*H*K_x*phi_d + A.diff(phi)*8*pi*G * rho_m).evalf(n=30, subs={Om0:Om0_val})\n",
    "H_kmou_sq = rho_m/3*8*pi*G*A+(K_x*phi_d**2/3 - lamb**2*K*H0_hinvMpc**2/3) -H**2\n",
    "# E_kmou = solve(H_kmou_sq.subs(X, X_bar), E)[1]#.subs(phi.diff(a),phi_a)\n",
    "E_kmou = solve(H_kmou_sq.subs(X, X_bar), E)[1]#/N(sqrt(2)))*sqrt(2)\n",
    "\n",
    "# ---------------------------- READ ----------------------------\n",
    "# The chosen equation to compute the derivative E' has an effect on the solution\n",
    "E_kmou_a_eq = (((-4*pi*G*A*rho_m - K_x*phi_d**2/2 - lamb**2*H0_hinvMpc**2*K)/3-H**2)/H_conf/H0_hinvMpc).evalf(n=30, subs={Om0:Om0_val})\n",
    "# E_kmou_a_eq = E_kmou.diff(a)#\n",
    "# E_kmou_a_eq = E_kmou_a_eq.subs(E, E_kmou)\n",
    "# H_LCDM = H0_hinvMpc*sqrt(Om+Ol)\n",
    "# E_kmou_a_eq = (H_LCDM/H0_hinvMpc).diff(a)\n",
    "\n",
    "# kmou_back = kmou_back.subs(X, X_bar)\n",
    "# E_kmou_a_eq = E_kmou_a_eq.subs(X, X_bar).expand()\n",
    "\n",
    "dphia_o_da_sym_eq = solve(kmou_back.subs(phi.diff(a),phi_a),Derivative(phi_a,a))[0]\n",
    "# ---------------------------- READ ----------------------------\n",
    "# Substuting E_kmou inside dphia_o_da_sym_eq produces a different results than using the integrated E\n",
    "# dphia_o_da_sym_eq = dphia_o_da_sym_eq.subs(E.diff(a), E_kmou_a_eq).subs(X, X_bar).subs(E, E_kmou).subs(phi.diff(a),phi_a)\n",
    "dphia_o_da_sym_eq = dphia_o_da_sym_eq.subs(E.diff(a), E_kmou_a_eq).subs(X, X_bar).subs(phi.diff(a),phi_a)\n",
    "\n",
    "# dphia_o_da_sym_eq = solve(kmou_back.subs(E.diff(a),E_kmou_a_eq).subs(phi.diff(a),phi_a), Derivative(phi_a,a))[0]\n",
    "dH_o_da_sym_eq = E_kmou_a_eq.subs(X, X_bar).subs(phi.diff(a),phi_a)\n",
    "\n",
    "dphi_o_da_eq = lambdify((a, phi, phi_a, E), phi_a)\n",
    "dphia_o_da_eq = lambdify((a, phi, phi_a, E), dphia_o_da_sym_eq.evalf(30, subs={lamb:lamb_val}),\n",
    "                        modules='mpmath')\n",
    "dE_o_da_eq = lambdify((a, phi, phi_a, E), dH_o_da_sym_eq.evalf(30, subs={lamb:lamb_val}),\n",
    "                     modules='mpmath')\n",
    "\n",
    "\n",
    "def dum_fun(t,vec):\n",
    "    '''Dummy function to adapt the input of solve_ivp'''\n",
    "    return (dphi_o_da_eq(t,vec[0],vec[1], vec[2]),\n",
    "            dphia_o_da_eq(t,vec[0],vec[1], vec[2]),\n",
    "           dE_o_da_eq(t,vec[0],vec[1], vec[2]))\n",
    "\n",
    "# Compute the solution of the differential equation\n",
    "H_kmou_sol = solve_ivp(dum_fun, t_span=(a_ini,a_fin), y0=(-0.1*a_ini, -1, H_LCDM.subs(a,a_ini)/H0_hinvMpc),\n",
    "                       dense_output=True, rtol=1e-9,\n",
    "                       method='LSODA',\n",
    "                       atol=1e-9\n",
    "                      )"
   ]
  },
  {
   "cell_type": "code",
   "execution_count": null,
   "metadata": {},
   "outputs": [],
   "source": [
    "def solve_Kmou_expansion(lamb=1, beta=0.2, n=2, K0=1, mode='search', H0_target=1, a_ini=3e-5, a_fin=1):\n",
    "    phi_p, phi_pp, X, rho_m, G = symbols(r'\\phi^{\\prime}, \\phi^{\\prime\\prime}, X, \\rho_m, G')\n",
    "    phi = Function(r'\\phi')(a)\n",
    "    phi_d, phi_dd = symbols(r'\\dot{\\phi}, \\ddot{\\phi}')\n",
    "    # symbols for system of diff eq\n",
    "    phi_a = symbols(r'\\phi_a')\n",
    "\n",
    "    phi_p = a*H_conf*phi.diff(a)\n",
    "    phi_pp = a*H_conf*(phi_p).diff(a)\n",
    "\n",
    "    A = exp(beta*phi)\n",
    "    rho_m = Om*H0_hinvMpc**2/(8*pi*G/3) # convert rho_m into Om\n",
    "    phi_d = phi_p/a\n",
    "    phi_dd = phi_pp/a**2 - phi_p/a**2*H_conf\n",
    "\n",
    "    K = (-1 + X + K0*X**n)\n",
    "    K_x = K.diff(X)\n",
    "    K_xx = K_x.diff(X)\n",
    "    X_bar = phi_p**2/(2*lamb**2 * a**2 * H0_hinvMpc**2)\n",
    "    K_x_bar = K_x.subs(X, X_bar)\n",
    "    K_xx_bar = K_xx.subs(X, X_bar)\n",
    "\n",
    "    kmou_back = (K_x + 2*X*K_xx)*phi_dd + 3*H*K_x*phi_d + A.diff(phi)*8*pi*G * rho_m\n",
    "    E_kmou_a_eq = ((1/3*(-4*pi*G*A*rho_m - K_x*phi_d**2/2 - lamb**2*H0_hinvMpc**2*K) - H**2)/H_conf/H0_hinvMpc).expand()\n",
    "#     H_kmou_sq = 8*pi*G/3*(A*rho_m)+(1/3*K_x*phi_d**2 - 1/3*lamb**2*K*H0_hinvMpc**2) -H**2\n",
    "\n",
    "    kmou_back = kmou_back.subs(X, X_bar).subs(E.diff(a), E_kmou_a_eq).subs(X, X_bar).expand().subs(phi.diff(a),phi_a)\n",
    "\n",
    "    dphia_o_da_sym_eq = solve(kmou_back, Derivative(phi_a,a))[0]\n",
    "    dE_o_da_sym_eq = E_kmou_a_eq.subs(X, X_bar).subs(phi.diff(a),phi_a)\n",
    "\n",
    "    dphi_o_da_eq = lambdify((a, phi, phi_a, E), phi_a)\n",
    "    dphia_o_da_eq = lambdify((a, phi, phi_a, E), dphia_o_da_sym_eq.simplify())\n",
    "    dE_o_da_eq = lambdify((a, phi, phi_a, E), dE_o_da_sym_eq.simplify())\n",
    "\n",
    "    def dum_fun(t,vec):\n",
    "        '''Dummy function to adapt the input of solve_ivp'''\n",
    "        return (dphi_o_da_eq(t,*vec),\n",
    "                dphia_o_da_eq(t,*vec),\n",
    "               dE_o_da_eq(t,*vec))\n",
    "\n",
    "    # Compute the solution of the differential equation\n",
    "    H_kmou_sol = solve_ivp(dum_fun, t_span=(a_ini,a_fin), y0=(-0.1*a_ini, -0.01, H_LCDM.subs(a,a_ini)/H0_hinvMpc), \n",
    "                            dense_output=True, \n",
    "                           rtol=1e-9,atol=1e-9,\n",
    "#                               method='LSODA'\n",
    "                          )\n",
    "    if mode=='search':\n",
    "        return np.array(H_kmou_sol.sol(1)[2] - H0_target)/H0_target\n",
    "    elif mode=='phi':\n",
    "        return H_kmou_sol\n",
    "    elif mode=='full':\n",
    "        E_kmou_a_fun =lambdify((a, phi, phi_a, E), E_kmou_a_eq.subs(X, X_bar).subs(phi.diff(a),phi_a))\n",
    "        return H_kmou_sol, E_kmou_a_fun"
   ]
  },
  {
   "cell_type": "code",
   "execution_count": null,
   "metadata": {},
   "outputs": [],
   "source": [
    "from scipy.optimize import newton"
   ]
  },
  {
   "cell_type": "code",
   "execution_count": null,
   "metadata": {},
   "outputs": [],
   "source": [
    "a_ini=3e-5\n",
    "beta= 0.2\n",
    "k0 = 1\n",
    "n=5\n",
    "best_lamb = newton(lambda l: solve_Kmou_expansion(l, a_ini=a_ini, beta=beta, K0=K0, n=n), 10, maxiter=10)"
   ]
  },
  {
   "cell_type": "code",
   "execution_count": null,
   "metadata": {},
   "outputs": [],
   "source": [
    "best_lamb"
   ]
  },
  {
   "cell_type": "code",
   "execution_count": null,
   "metadata": {},
   "outputs": [],
   "source": [
    "H_kmou_sol, E_kmou_a_fun = solve_Kmou_expansion(best_lamb, beta=beta, K0=K0, n=n, mode='full')"
   ]
  },
  {
   "cell_type": "code",
   "execution_count": null,
   "metadata": {},
   "outputs": [],
   "source": [
    "E_3p55 = np.array([E_kmou_fun(t,f,f_p) \n",
    "                   for t,f,f_p in zip(H_kmou_sol['t'], H_kmou_sol['y'][0], H_kmou_sol['y'][1])])\n",
    "\n",
    "E_3p55_Ben = np.array([E_kmou_fun(t,f,f_p) for \n",
    "                   t,f,f_p in zip(df_Ben_BG.index, df_Ben_BG['phi'], df_Ben_BG['d phi/ dlna']/df_Ben_BG.index)])"
   ]
  },
  {
   "cell_type": "code",
   "execution_count": null,
   "metadata": {},
   "outputs": [],
   "source": []
  },
  {
   "cell_type": "code",
   "execution_count": null,
   "metadata": {},
   "outputs": [],
   "source": [
    "E_3p56 = np.array([E_kmou_a_fun(t,f,f_p, E) \n",
    "                   for t,f,f_p, E in zip(H_kmou_sol['t'], H_kmou_sol['y'][0], H_kmou_sol['y'][1], H_kmou_sol['y'][2])])"
   ]
  },
  {
   "cell_type": "code",
   "execution_count": null,
   "metadata": {},
   "outputs": [],
   "source": [
    "fig, axs = plt.subplots(2, height_ratios=[2,1], sharex=True)\n",
    "# axs[0].plot(H_kmou_sol['t'], E_3p55, label='Bart Eq 3.55')\n",
    "# axs[0].plot(df_Ben_BG.index, E_3p55_Ben, label='Ben Eq 3.55' )\n",
    "axs[0].plot(H_kmou_sol['t'], abs(H_kmou_sol['y'][2]), label=\"Bart's solver\")\n",
    "axs[0].plot(df_Ben_BG.index, lambdify(a,H_LCDM)(df_Ben_BG.index)/H0_hinvMpc, 'k--', label='$\\Lambda$CDM')\n",
    "\n",
    "axs[0].legend();\n",
    "axs[0].set_xscale('log')\n",
    "axs[0].set_yscale('log')\n",
    "axs[0].set_ylabel(r'$E \\equiv H/H_0$')\n",
    "\n",
    "# axs[1].plot(H_kmou_sol['t'], E_3p55/lambdify(a,H_LCDM)(H_kmou_sol['t'])*H0_hinvMpc, label='Bart Eq 3.55')\n",
    "# axs[1].plot(df_Ben_BG.index, E_3p55_Ben/lambdify(a,H_LCDM)(df_Ben_BG.index)*H0_hinvMpc, '--',label='Ben Eq 3.55' )\n",
    "axs[1].plot(H_kmou_sol['t'], abs(H_kmou_sol['y'][2])/lambdify(a,H_LCDM)(H_kmou_sol['t'])*H0_hinvMpc, label=\"Bart's solver\")\n",
    "# axs[1].set_ylim(0.8,1.1)\n",
    "axs[1].set_xlabel(r'$a$')\n",
    "axs[1].set_ylabel(r'$E_{\\rm case}/ E_{\\rm \\Lambda CDM}$')\n",
    "fig.subplots_adjust(hspace=0);\n",
    "plt.savefig(f'./figures/n{n}-beta0p2-k1/Background.pdf', format='pdf')"
   ]
  },
  {
   "cell_type": "code",
   "execution_count": null,
   "metadata": {},
   "outputs": [],
   "source": [
    "fig, axs = plt.subplots(2, height_ratios=[2,1], sharex=True)\n",
    "axs[0].plot(H_kmou_sol['t'], abs(H_kmou_sol['y'][0]), label='Bart phi')\n",
    "axs[0].plot(df_Ben_BG.index, abs(df_Ben_BG['phi']), '--',label='Ben phi' )\n",
    "axs[0].plot(H_kmou_sol['t'], abs(H_kmou_sol['y'][1]), label='Bart dphi/da')\n",
    "axs[0].plot(df_Ben_BG.index, abs(df_Ben_BG['d phi/ dlna']/df_Ben_BG.index), '--',label='Ben dphi/da' )\n",
    "# axs[0].plot(H_kmou_sol['t'], abs(H_kmou_sol['y'][2]), label=\"Bart's solver\")\n",
    "\n",
    "axs[0].legend();\n",
    "axs[0].set_xscale('log')\n",
    "axs[0].set_yscale('log')\n",
    "axs[0].set_ylim(a_ini,2)\n",
    "# axs[0].set_ylabel(r'$E \\equiv H/H_0$')\n",
    "\n",
    "axs[1].plot((df_Ben_BG['d phi/ dlna'])/H_kmou_sol.sol(df_Ben_BG.index)[1]/df_Ben_BG.index, 'C2')\n",
    "axs[1].plot((df_Ben_BG['phi'])/H_kmou_sol.sol(df_Ben_BG.index)[0], '--C0' )\n",
    "# axs[1].plot(H_kmou_sol['t'], abs(H_kmou_sol['y'][2])/lambdify(a,H_LCDM)(H_kmou_sol['t'])*H0_hinvMpc, label=\"Bart's solver\")\n",
    "axs[1].set_ylim(0.95,1.05)\n",
    "axs[1].set_xlabel(r'$a$')\n",
    "axs[1].set_ylabel(r'Bart/Ben')\n",
    "fig.subplots_adjust(hspace=0);"
   ]
  },
  {
   "cell_type": "markdown",
   "metadata": {},
   "source": [
    "# Jordan frame"
   ]
  },
  {
   "cell_type": "code",
   "execution_count": null,
   "metadata": {},
   "outputs": [],
   "source": [
    "a_vals = H_kmou_sol['t']\n",
    "\n",
    "phi_kmou = InterpolatedUnivariateSpline(a_vals, H_kmou_sol['y'][0])\n",
    "phi_diffa_kmou = phi_kmou.derivative()\n",
    "E_kmou = InterpolatedUnivariateSpline(a_vals, H_kmou_sol['y'][2])\n",
    "E_diffa_kmou = E_kmou.derivative()\n",
    "phi_p_kmou = lambda a: a*(a*E_kmou(a)*H0_hinvMpc)*phi_diffa_kmou(a)"
   ]
  },
  {
   "cell_type": "markdown",
   "metadata": {},
   "source": [
    "#### Background"
   ]
  },
  {
   "cell_type": "code",
   "execution_count": null,
   "metadata": {},
   "outputs": [],
   "source": [
    "A_vals = np.e**(beta* H_kmou_sol['y'][0])"
   ]
  },
  {
   "cell_type": "code",
   "execution_count": null,
   "metadata": {},
   "outputs": [],
   "source": [
    "a_E_vals = H_kmou_sol['t']\n",
    "a_J_vals = a_E_vals*A_vals"
   ]
  },
  {
   "cell_type": "code",
   "execution_count": null,
   "metadata": {},
   "outputs": [],
   "source": [
    "H_J = H_kmou_sol['y'][2]/A_vals * (1 + a_E_vals*beta*phi_diffa_kmou(a_E_vals))"
   ]
  },
  {
   "cell_type": "code",
   "execution_count": null,
   "metadata": {},
   "outputs": [],
   "source": [
    "lambdify((a),H_LCDM/H0_hinvMpc)(1)"
   ]
  },
  {
   "cell_type": "code",
   "execution_count": null,
   "metadata": {},
   "outputs": [],
   "source": [
    "H_LCDM.simplify()"
   ]
  },
  {
   "cell_type": "code",
   "execution_count": null,
   "metadata": {},
   "outputs": [],
   "source": [
    "E_vals_LCDM_J = lambdify((a),H_LCDM.simplify()/H0_hinvMpc)(np.array(list(a_J_vals)))"
   ]
  },
  {
   "cell_type": "markdown",
   "metadata": {},
   "source": [
    "#### Interpolate"
   ]
  },
  {
   "cell_type": "code",
   "execution_count": null,
   "metadata": {},
   "outputs": [],
   "source": [
    "phi_kmou_J = InterpolatedUnivariateSpline(a_J_vals, H_kmou_sol['y'][0], ext=3)\n",
    "phi_diffa_kmou_J = phi_kmou_J.derivative()\n",
    "E_kmou_J = InterpolatedUnivariateSpline(a_J_vals, H_J, ext=3)\n",
    "E_diffa_kmou_J = E_kmou_J.derivative()\n",
    "phi_p_kmou_J = lambda a: a*(a*E_kmou_J(a)*H0_hinvMpc)*phi_diffa_kmou_J(a)"
   ]
  },
  {
   "cell_type": "markdown",
   "metadata": {},
   "source": [
    "#### Hubble Ratio"
   ]
  },
  {
   "cell_type": "code",
   "execution_count": null,
   "metadata": {},
   "outputs": [],
   "source": [
    "# plt.plot(a_E_vals, df_Ben_BG['H_MG']/E_vals_LCDM, label='Kmou-E / LCDM-E')\n",
    "plt.plot( df_Ben_BG['H_MG']/E_vals_LCDM, 'C1', label='Einstein frame')\n",
    "plt.plot(a_E_vals, H_J/lambdify((a),H_LCDM.simplify()/H0_hinvMpc)(np.array(list(a_E_vals))), '--C2', label='Jordan frame')\n",
    "plt.xscale('log')\n",
    "plt.xlim(a_min/margin, a_max*margin)\n",
    "y_min, y_max = plt.ylim()\n",
    "# plt.vlines(A_vals.iloc[-1], y_min, y_max, linestyles=':', colors='k')\n",
    "plt.hlines(1, 0, 1, colors='k', linestyles='--')\n",
    "plt.xlabel(r'$a_{\\rm E}$')\n",
    "plt.ylabel(r'$H_{K{\\rm mou}}/H_{\\Lambda {\\rm CDM}}$')\n",
    "plt.legend();\n",
    "plt.savefig('./figures/n2-beta0p2-k1/HubbleRateRatio.pdf', format='pdf')"
   ]
  },
  {
   "cell_type": "markdown",
   "metadata": {},
   "source": [
    "#### $k$-mouflage"
   ]
  },
  {
   "cell_type": "markdown",
   "metadata": {},
   "source": [
    "The growth equation for the k-mouflage model in the Jordan frame reads:\n",
    "$$D_{1}'' + \\mathcal{H} D_{1}' - \\frac{3}{2} \\, A^2 \\Omega_{m} H_{0}^{2} a^{2} \\mu D_{1} = 0,$$\n",
    "where $\\mu = 1+\\epsilon_1$, $\\epsilon_1 = \\frac{2 \\beta^2}{K_x}$ and $\\Omega_{m}$ is the Einstein frame matter density, hence the presence of the $A^2$ factor to take into account the running of the Planck mass in the Jordan frame and how densities transform between the two frames.\n",
    "\n",
    "The conformal factor is given by \n",
    "$$A(\\varphi)= \\exp \\left(\\beta_{\\mathrm{Kmo}} \\varphi\\right),$$\n",
    "$$\\frac{\\mathrm{d} \\ln A(\\varphi)}{\\mathrm{d} \\varphi}=\\beta_{\\mathrm{Kmo}}.$$\n",
    "\n",
    "We use the Einstein frame model:\n",
    "$$K(X)=-1+X+K_0 X^n$$\n",
    "<!-- is translated in the Jordan frame as:\n",
    "$$\\tilde{K}= X \\tilde{k} -1 = X -1 = -1+X+K_0 X^n$$ -->\n",
    "\n",
    "with $n=2$ and $K_0=1$. Furthermore, we fix $\\beta_{\\mathrm{Kmo}}=0.2$. Hence, we have \n",
    "$$A(\\varphi)=\\exp \\left(0.2 \\varphi\\right),$$\n",
    "$$K_X(\\bar{X}) = 1 + 2\\bar{X} = 1 + \\frac{A^2 \\bar{\\varphi}^{\\prime 2}}{\\lambda^2 a^2 H_0^2}.$$\n",
    "where $\\lambda=1.476$ is necessary to recover the correct value of $H_0$ today."
   ]
  },
  {
   "cell_type": "code",
   "execution_count": null,
   "metadata": {},
   "outputs": [],
   "source": [
    "# Define kmouflage quantities\n",
    "phi, phi_p, X = symbols(r'\\phi, \\phi^{\\prime}, X')\n",
    "A = exp(beta*phi)\n",
    "\n",
    "K = -1 + X + K0*X**n\n",
    "K_x = K.diff(X)\n",
    "X_bar_J = A**2*phi_p**2/(2*best_lamb**2 * a**2 * H0_hinvMpc**2)\n",
    "# X_bar = phi_p**2/(2*lamb**2 * a**2 * H0_hinvMpc**2)\n",
    "K_x_bar_J = K_x.subs(X, X_bar_J)\n",
    "# K_x_bar = K_x.subs(X, X_bar)\n",
    "\n",
    "mu_kmou_J = 1 + 2*beta**2/(K_x_bar_J)\n",
    "# mu_kmou = 1 + 2*beta**2/(K_x_bar)"
   ]
  },
  {
   "cell_type": "code",
   "execution_count": null,
   "metadata": {},
   "outputs": [],
   "source": [
    "# Set up differential equation\n",
    "# diff_eq_kmou_j = a*H_conf*(a*H_conf*D(a).diff(a)).diff(a) + a*H_conf*(H_conf)*D(a).diff(a) \\\n",
    "#                 -3/2*A**2*Om*(H0_hinvMpc)**2*a**(2)*mu_kmou_J*D(a)\n",
    "\n",
    "diff_eq_kmou_j = a*H_conf*(a*H_conf*D(a).diff(a)).diff(a) + a*H_conf*(H_conf)*D(a).diff(a) \\\n",
    "                -3/2*A**2*Om*(H0_hinvMpc)**2*a**(2)*mu_kmou_J*D(a)\n",
    "\n",
    "# diff_eq_kmou_j = a*(a*D(a).diff(a)).diff(a) + (2+1/H**2*a*H*H.diff(a))*a*D(a).diff(a) \\\n",
    "#                 -3/2*Om*(H0_hinvMpc/H)**2*mu_kmou_J*D(a)\n",
    "\n",
    "diff_eq_kmou_j = diff_eq_kmou_j.expand()"
   ]
  },
  {
   "cell_type": "markdown",
   "metadata": {},
   "source": [
    "And then solve the differntial equation numerically:"
   ]
  },
  {
   "cell_type": "code",
   "execution_count": null,
   "metadata": {},
   "outputs": [],
   "source": [
    "# Split 2nd order differential equation in a system of first order differential equations\n",
    "x_sym_eq = diff_eq_kmou_j.subs(D(a).diff(a),x).subs(D(a),y).subs(E.diff(a),E_diffa)\n",
    "\n",
    "x_eq= lambdify((a,x,y,E,E_diffa,phi,phi_p), solve(x_sym_eq, Derivative(x,a))[0])\n",
    "y_eq = lambdify((a,x,y), x)"
   ]
  },
  {
   "cell_type": "code",
   "execution_count": null,
   "metadata": {},
   "outputs": [],
   "source": [
    "def dum_fun(t,vec):\n",
    "    '''Dummy function to adapt the input of solve_ivp'''\n",
    "    return (x_eq(t,vec[0],vec[1], E_kmou_J(t),E_diffa_kmou_J(t), phi_kmou_J(t), phi_p_kmou_J(t)),\n",
    "            y_eq(t,vec[0],vec[1]))\n",
    "\n",
    "# Compute the solution of the differential equation\n",
    "D_kmou_J = solve_ivp(dum_fun, t_span=(a_ini,a_fin), y0=(1,a_ini), dense_output=True, rtol=1e-9)"
   ]
  },
  {
   "cell_type": "code",
   "execution_count": null,
   "metadata": {},
   "outputs": [],
   "source": [
    "plt.semilogx(a_E_vals, lambdify([a, phi, phi_p], mu_kmou_J)(a_J_vals,\n",
    "                                                              phi_kmou_J(a_J_vals),\n",
    "                                                              phi_p_kmou_J(a_J_vals)), \n",
    "             label=r'coupling, $\\mu$')\n",
    "\n",
    "plt.semilogx(a_E_vals, lambdify([phi], A)(phi_kmou(a_E_vals)), label=r'conformal factor, $A$')\n",
    "\n",
    "plt.xlabel(r'$a_{\\rm E}$')\n",
    "\n",
    "plt.legend()\n",
    "plt.xlim(a_min/margin, a_max*margin)\n",
    "plt.savefig(f'./figures/n{n}-beta0p2-k1/MG-effects.pdf', format='pdf')"
   ]
  },
  {
   "cell_type": "code",
   "execution_count": null,
   "metadata": {},
   "outputs": [],
   "source": [
    "plt.figure(figsize=(6,4))\n",
    "plt.plot(a_E_vals, D_kmou_J.sol(a_J_vals)[1],label='$K$-mou Jordan')\n",
    "plt.plot(a_E_vals , a_E_vals, 'k--', label='D=a')\n",
    "plt.xlabel(r'$a_{\\rm E}$')\n",
    "plt.ylabel('$D_+$');\n",
    "plt.legend();\n",
    "plt.savefig(f'./figures/n{n}-beta0p2-k1/Growth_comp.pdf', format='pdf')"
   ]
  },
  {
   "cell_type": "markdown",
   "metadata": {},
   "source": [
    "# Output"
   ]
  },
  {
   "cell_type": "code",
   "execution_count": null,
   "metadata": {},
   "outputs": [],
   "source": [
    "out_table = np.array([a_E_vals, a_J_vals, E_kmou_J(a_J_vals), E_diffa_kmou_J(a_J_vals), \n",
    "                      phi_kmou_J(a_J_vals), phi_p_kmou_J(a_J_vals),\n",
    "                      lambdify([a, phi, phi_p], mu_kmou_J)(a_J_vals, phi_kmou_J(a_J_vals),\n",
    "                                                                        phi_p_kmou_J(a_J_vals)),\n",
    "                     A_vals, D_kmou_J.sol(a_J_vals)[1]]).T\n",
    "\n",
    "header = 'a_E, a_J, E_J, dE_J/da, phi_J, dphi_J/da, G_eff/G, A_conf, D_kmou'\n",
    "header =''.join([i.ljust(16) for i in header.split(', ')])\n",
    "\n",
    "np.savetxt(f'./Data/Output/n{n}-beta0p2-k1/out_table.txt', out_table, header=header, fmt='%.6e', delimiter='\\t')"
   ]
  },
  {
   "cell_type": "code",
   "execution_count": null,
   "metadata": {},
   "outputs": [],
   "source": []
  }
 ],
 "metadata": {
  "kernelspec": {
   "display_name": "pyoperon",
   "language": "python",
   "name": "pyoperon"
  },
  "language_info": {
   "codemirror_mode": {
    "name": "ipython",
    "version": 3
   },
   "file_extension": ".py",
   "mimetype": "text/x-python",
   "name": "python",
   "nbconvert_exporter": "python",
   "pygments_lexer": "ipython3",
   "version": "3.12.0"
  }
 },
 "nbformat": 4,
 "nbformat_minor": 4
}
