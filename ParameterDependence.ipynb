{
 "cells": [
  {
   "cell_type": "code",
   "execution_count": null,
   "id": "6e0ffe91",
   "metadata": {},
   "outputs": [],
   "source": [
    "import sympy as sym\n",
    "sym.init_printing()\n",
    "import numpy as np\n",
    "import matplotlib.pyplot as plt\n",
    "import pandas as pd\n",
    "from scipy.interpolate import InterpolatedUnivariateSpline\n",
    "\n",
    "plt.style.use('./my_style.py')\n",
    "import matplotlib.ticker as mticker\n",
    "\n",
    "from cycler import cycler\n",
    "import matplotlib.cm     as cm\n",
    "from multiprocess import Pool"
   ]
  },
  {
   "cell_type": "code",
   "execution_count": null,
   "id": "d29cc315",
   "metadata": {},
   "outputs": [],
   "source": [
    "from scipy.interpolate import InterpolatedUnivariateSpline\n",
    "\n",
    "def interp_df_fun(col, k_in, k_out, deg):\n",
    "    return InterpolatedUnivariateSpline(k_in, col, k=deg)(k_out)\n",
    "\n",
    "def interp_df(df, N_points=1000, deg=3, mode='lin'):\n",
    "    k_min = df.index.min()\n",
    "    k_max = df.index.max()\n",
    "    if mode=='lin':\n",
    "        k_out = np.linspace(k_min, k_max, N_points)\n",
    "    elif mode=='log':\n",
    "        k_out = np.logspace(np.log10(k_min), np.log10(k_max), N_points)\n",
    "    df = df.apply(lambda col: interp_df_fun(col, df.index, k_out, deg)) \n",
    "    df.index = k_out\n",
    "    return df"
   ]
  },
  {
   "cell_type": "code",
   "execution_count": null,
   "id": "e25ad2fc",
   "metadata": {},
   "outputs": [],
   "source": [
    "from solver import KmouExpansionJordan"
   ]
  },
  {
   "cell_type": "code",
   "execution_count": null,
   "id": "379e53b3",
   "metadata": {},
   "outputs": [],
   "source": [
    "beta_arr = np.linspace(0.01,0.2, 5)\n",
    "K0_arr = np.logspace(-1,4, 6)"
   ]
  },
  {
   "cell_type": "code",
   "execution_count": null,
   "id": "08cd54e5",
   "metadata": {},
   "outputs": [],
   "source": [
    "beta_mesh, K0_mesh =  np.meshgrid(beta_arr, K0_arr)"
   ]
  },
  {
   "cell_type": "code",
   "execution_count": null,
   "id": "cac1dfb4",
   "metadata": {},
   "outputs": [],
   "source": [
    "beta_mesh_flat = beta_mesh.flatten()\n",
    "K0_mesh_flat = K0_mesh.flatten()"
   ]
  },
  {
   "cell_type": "code",
   "execution_count": null,
   "id": "364feb78",
   "metadata": {},
   "outputs": [],
   "source": [
    "def get_BL(vec, a_val=1, frame='Jordan'):\n",
    "    beta, K0 = vec\n",
    "    print(f'Working on beta = {beta}, K0 = {K0}, ')\n",
    "    dum_kmou = KmouExpansionJordan(beta=beta, K0=K0, lamb_val=1.5)\n",
    "    dum_kmou.tune_lambda(E_target=1, a_target=1, frame=frame, maxiter=15)\n",
    "    dum_kmou.get_growth()\n",
    "    dum_kmou.get_growth_LCDM()\n",
    "    if frame=='Jordan':\n",
    "        a_J = a_val\n",
    "    elif frame=='Einstein':\n",
    "        a_J = dum_kmou.get_a_Jor(a_val)\n",
    "    \n",
    "    B_L0 = (dum_kmou.D_kmou_J.sol(a_J)[1]/dum_kmou.D_LCDM.sol(a_val)[1])**2\n",
    "    return B_L0\n",
    "\n",
    "get_BL_Ein = lambda vec: get_BL(vec, frame='Einstein')\n",
    "get_BL_Jor = lambda vec: get_BL(vec, frame='Jordan')"
   ]
  },
  {
   "cell_type": "code",
   "execution_count": null,
   "id": "27cd759b",
   "metadata": {},
   "outputs": [],
   "source": [
    "with Pool(8) as p:\n",
    "    BL_list = list(p.map(get_BL_Ein, zip(beta_mesh_flat,K0_mesh_flat), ))"
   ]
  },
  {
   "cell_type": "code",
   "execution_count": null,
   "id": "b7e67939",
   "metadata": {},
   "outputs": [],
   "source": [
    "with Pool(8) as p:\n",
    "    BL_list_Jor = list(p.map(get_BL_Jor, zip(beta_mesh_flat,K0_mesh_flat), ))"
   ]
  },
  {
   "cell_type": "code",
   "execution_count": null,
   "id": "893d9bc1",
   "metadata": {},
   "outputs": [],
   "source": [
    "BL_arr = np.array(BL_list).reshape(len(K0_arr), len(beta_arr))"
   ]
  },
  {
   "cell_type": "code",
   "execution_count": null,
   "id": "b7db44b5",
   "metadata": {},
   "outputs": [],
   "source": [
    "BL_arr_Jor = np.array(BL_list_Jor).reshape(len(K0_arr), len(beta_arr))"
   ]
  },
  {
   "cell_type": "code",
   "execution_count": null,
   "id": "8641c8ea",
   "metadata": {},
   "outputs": [],
   "source": [
    "df_BL =pd.DataFrame(BL_arr.T, index=np.round(beta_arr,4), columns=np.round(K0_arr,4))"
   ]
  },
  {
   "cell_type": "code",
   "execution_count": null,
   "id": "3717eee8",
   "metadata": {},
   "outputs": [],
   "source": [
    "df_BL_Jor =pd.DataFrame(BL_arr_Jor.T, index=np.round(beta_arr,4), columns=np.round(K0_arr,4))"
   ]
  },
  {
   "cell_type": "code",
   "execution_count": null,
   "id": "46247b99",
   "metadata": {},
   "outputs": [],
   "source": [
    "df_BL_fine = (interp_df(df_BL, N_points=100).T).T\n",
    "# df_BL_fine = interp_df(interp_df(df_BL, N_points=100).T, 5, mode='log').T"
   ]
  },
  {
   "cell_type": "code",
   "execution_count": null,
   "id": "da329cd7",
   "metadata": {},
   "outputs": [],
   "source": [
    "df_BL_fine_Jor = (interp_df(df_BL_Jor, N_points=100).T).T\n",
    "# df_BL_fine = interp_df(interp_df(df_BL, N_points=100).T, 5, mode='log').T"
   ]
  },
  {
   "cell_type": "code",
   "execution_count": null,
   "id": "e213e763",
   "metadata": {},
   "outputs": [],
   "source": [
    "df_BL_st = df_BL_fine.stack().reset_index()\n",
    "df_BL_st.columns = ['beta', 'K0', 'B_L']\n",
    "\n",
    "df_BL_st['log_K0'] = np.log10(df_BL_st.K0)"
   ]
  },
  {
   "cell_type": "code",
   "execution_count": null,
   "id": "90da6194",
   "metadata": {},
   "outputs": [],
   "source": [
    "df_BL_st_Jor = df_BL_fine_Jor.stack().reset_index()\n",
    "df_BL_st_Jor.columns = ['beta', 'K0', 'B_L']\n",
    "\n",
    "df_BL_st_Jor['log_K0'] = np.log10(df_BL_st_Jor.K0)"
   ]
  },
  {
   "cell_type": "code",
   "execution_count": null,
   "id": "cfd9a93d",
   "metadata": {},
   "outputs": [],
   "source": [
    "import seaborn as sns"
   ]
  },
  {
   "cell_type": "code",
   "execution_count": null,
   "id": "c821a4f7",
   "metadata": {},
   "outputs": [],
   "source": [
    "g = sns.scatterplot(df_BL_st, y='B_L', x='beta', hue='K0', palette='colorblind', )\n",
    "plt.hlines(1, 0.05,0.2, colors='k', linestyles='--')\n",
    "g.set_xlabel(r'$\\beta$');\n",
    "g.set_ylabel(r'$B_{\\rm L}(z=0)$');\n",
    "plt.title('Einstein frame tuning');\n",
    "\n",
    "plt.savefig('./Figures/EinsteinFrameTuning_BL.pdf', format='pdf')"
   ]
  },
  {
   "cell_type": "code",
   "execution_count": null,
   "id": "daa3f47d",
   "metadata": {},
   "outputs": [],
   "source": [
    "g = sns.scatterplot(df_BL_st_Jor, y='B_L', x='beta', hue='K0', palette='colorblind', )\n",
    "plt.hlines(1, 0.05,0.2, colors='k', linestyles='--')\n",
    "g.set_xlabel(r'$\\beta$');\n",
    "g.set_ylabel(r'$B_{\\rm L}(z=0)$');\n",
    "plt.title('Jordan frame tuning');\n",
    "\n",
    "plt.savefig('./Figures/JordanFrameTuning_BL.pdf', format='pdf')"
   ]
  },
  {
   "cell_type": "code",
   "execution_count": null,
   "id": "2d17ed6a",
   "metadata": {},
   "outputs": [],
   "source": [
    "InterpolatedUnivariateSpline(df_BL_fine_Jor[1], df_BL_fine_Jor.index)(df_BL.loc[0.2,1])"
   ]
  },
  {
   "cell_type": "code",
   "execution_count": null,
   "id": "e93a7ca4",
   "metadata": {},
   "outputs": [],
   "source": [
    "norm = plt.Normalize(df_BL_st['log_K0'].min(), df_BL_st['log_K0'].max())\n",
    "sm = plt.cm.ScalarMappable(cmap=\"RdBu\", norm=norm)\n",
    "sm.set_array([])\n",
    "\n",
    "g = sns.scatterplot(df_BL_st, y='B_L', x='beta', hue='log_K0', palette='RdBu', )\n",
    "g.set_xlabel(r'$\\beta$');\n",
    "g.set_ylabel(r'$B_{\\rm L}(z=0)$');\n",
    "\n",
    "# Remove the legend and add a colorbar\n",
    "g.get_legend().remove()\n",
    "g.figure.colorbar(sm, label='$\\log_{10}(K_0)$');"
   ]
  },
  {
   "cell_type": "code",
   "execution_count": null,
   "id": "0bdda92e",
   "metadata": {},
   "outputs": [],
   "source": [
    "df_BL_fine[]"
   ]
  },
  {
   "cell_type": "code",
   "execution_count": null,
   "id": "0353dd5d",
   "metadata": {},
   "outputs": [],
   "source": [
    "g = sns.heatmap(df_BL)"
   ]
  },
  {
   "cell_type": "markdown",
   "id": "fd838799",
   "metadata": {},
   "source": [
    "# Test results"
   ]
  },
  {
   "cell_type": "code",
   "execution_count": null,
   "id": "535d9f31",
   "metadata": {},
   "outputs": [],
   "source": [
    "test_exp = KmouExpansionJordan(lamb_val=10, beta=0.124, K0=1)\n",
    "\n",
    "test_exp.tune_lambda(maxiter=10)\n",
    "test_exp.get_growth()\n",
    "\n",
    "test_exp.get_growth_LCDM()"
   ]
  },
  {
   "cell_type": "code",
   "execution_count": null,
   "id": "8bc6acc9",
   "metadata": {},
   "outputs": [],
   "source": [
    "a_vals = np.linspace(1e-3,1, 1000)\n",
    "plt.semilogx(a_vals, test_exp.D_kmou_J.sol(a_vals)[1]/test_exp.D_LCDM.sol(a_vals)[1])"
   ]
  },
  {
   "cell_type": "code",
   "execution_count": null,
   "id": "259a721e",
   "metadata": {},
   "outputs": [],
   "source": [
    "out_table = test_exp.eval()\n",
    "plt.semilogx(out_table[0],out_table[3]/test_exp.E_LCDM_fun(out_table[0]))"
   ]
  },
  {
   "cell_type": "code",
   "execution_count": null,
   "id": "d4ece0f1",
   "metadata": {},
   "outputs": [],
   "source": []
  }
 ],
 "metadata": {
  "kernelspec": {
   "display_name": "Python 3 (ipykernel)",
   "language": "python",
   "name": "python3"
  },
  "language_info": {
   "codemirror_mode": {
    "name": "ipython",
    "version": 3
   },
   "file_extension": ".py",
   "mimetype": "text/x-python",
   "name": "python",
   "nbconvert_exporter": "python",
   "pygments_lexer": "ipython3",
   "version": "3.10.8"
  }
 },
 "nbformat": 4,
 "nbformat_minor": 5
}
